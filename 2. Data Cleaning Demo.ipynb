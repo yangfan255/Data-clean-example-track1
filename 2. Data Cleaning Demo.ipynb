{
 "cells": [
  {
   "cell_type": "markdown",
   "metadata": {},
   "source": [
    "## Note that this demo only process two raw .log files, with one before cut-off date and the other after the cut-off date.\n",
    "\n",
    "The raw data contains all the users' activities from March 01 to May 12, 2017. The data set is too large for a PC to read in all .logs at once. On the other hand, it's not necessary to get all the activity information to determine if a user is a churn. To be more specific, for churn and the users' activity analysis, only user_id, device_type (iphone or android) and date/time of each activity log needs to be saved.\n",
    "\n",
    "### Cut-off date = April 21st.\n",
    "\n",
    "In this demo, the first file of 03/01 is before the cut-off date, while the second file of 05/01 is after the cut-off. In reality there are three weeks before cut-off, and three weeks after. The cut off might need changing later, depending on the model's performance.\n",
    "\n",
    "### Operations on the play log files:\n",
    "\n",
    "1. Open *play.log files one by one\n",
    "\n",
    "2. Read a line, and save the user id, device type and log date. \n",
    "\n",
    "3. Do this for all lines in all files. Write the saved info into a file called 'play_lite.log'"
   ]
  },
  {
   "cell_type": "code",
   "execution_count": 1,
   "metadata": {
    "collapsed": true
   },
   "outputs": [],
   "source": [
    "import glob\n"
   ]
  },
  {
   "cell_type": "code",
   "execution_count": 71,
   "metadata": {},
   "outputs": [
    {
     "data": {
      "text/plain": [
       "2"
      ]
     },
     "execution_count": 71,
     "metadata": {},
     "output_type": "execute_result"
    }
   ],
   "source": [
    "filepath = '/Users/Xiaoxi/Desktop/BitTiger/Capstone/data/play/*play.log'\n",
    "files = glob.glob(filepath)\n",
    "len(files)"
   ]
  },
  {
   "cell_type": "code",
   "execution_count": 72,
   "metadata": {},
   "outputs": [
    {
     "data": {
      "text/plain": [
       "['/Users/Xiaoxi/Desktop/BitTiger/Capstone/data/play/20170301_play.log',\n",
       " '/Users/Xiaoxi/Desktop/BitTiger/Capstone/data/play/20170501_1_play.log']"
      ]
     },
     "execution_count": 72,
     "metadata": {},
     "output_type": "execute_result"
    }
   ],
   "source": [
    "files"
   ]
  },
  {
   "cell_type": "code",
   "execution_count": 73,
   "metadata": {},
   "outputs": [
    {
     "data": {
      "text/plain": [
       "[3422257, 992200]"
      ]
     },
     "execution_count": 73,
     "metadata": {},
     "output_type": "execute_result"
    }
   ],
   "source": [
    "# read in log file line by line and save to log_lengths to check the total lengths of logs\n",
    "log_lengths = []\n",
    "\n",
    "for the_file in files:\n",
    "    f = open(the_file, 'r')\n",
    "    lines = f.readlines()\n",
    "    log_lengths.append(len(lines))\n",
    "    f.close()\n",
    "    \n",
    "log_lengths"
   ]
  },
  {
   "cell_type": "code",
   "execution_count": 104,
   "metadata": {},
   "outputs": [
    {
     "data": {
      "text/plain": [
       "3422257"
      ]
     },
     "execution_count": 104,
     "metadata": {},
     "output_type": "execute_result"
    }
   ],
   "source": [
    "with open(files[0],'r') as f:\n",
    "    content = f.readlines()\n",
    "len(content)"
   ]
  },
  {
   "cell_type": "code",
   "execution_count": 105,
   "metadata": {},
   "outputs": [
    {
     "data": {
      "text/plain": [
       "'264715\\n'"
      ]
     },
     "execution_count": 105,
     "metadata": {},
     "output_type": "execute_result"
    }
   ],
   "source": [
    "first_line = content[0]\n",
    "first_line\n"
   ]
  },
  {
   "cell_type": "code",
   "execution_count": 107,
   "metadata": {},
   "outputs": [
    {
     "data": {
      "text/plain": [
       "['264715']"
      ]
     },
     "execution_count": 107,
     "metadata": {},
     "output_type": "execute_result"
    }
   ],
   "source": [
    "first_line_fields = content[0].strip('\\n').split('\\t')\n",
    "first_line_fields"
   ]
  },
  {
   "cell_type": "code",
   "execution_count": 89,
   "metadata": {},
   "outputs": [
    {
     "data": {
      "text/plain": [
       "['264715']"
      ]
     },
     "execution_count": 89,
     "metadata": {},
     "output_type": "execute_result"
    }
   ],
   "source": [
    "reduced_fields = first_line_fields[:2]\n",
    "reduced_fields"
   ]
  },
  {
   "cell_type": "code",
   "execution_count": 90,
   "metadata": {},
   "outputs": [
    {
     "data": {
      "text/plain": [
       "['264715', '20170301_play.log']"
      ]
     },
     "execution_count": 90,
     "metadata": {},
     "output_type": "execute_result"
    }
   ],
   "source": [
    "filename = f.name.split('/')[-1]\n",
    "\n",
    "reduced_fields.append(filename)\n",
    "\n",
    "reduced_fields"
   ]
  },
  {
   "cell_type": "code",
   "execution_count": 91,
   "metadata": {},
   "outputs": [
    {
     "data": {
      "text/plain": [
       "'264715\\t20170301_play.log\\n'"
      ]
     },
     "execution_count": 91,
     "metadata": {},
     "output_type": "execute_result"
    }
   ],
   "source": [
    "new_first_line = '\\t'.join(reduced_fields)+'\\n'\n",
    "new_first_line"
   ]
  },
  {
   "cell_type": "code",
   "execution_count": null,
   "metadata": {
    "collapsed": true
   },
   "outputs": [],
   "source": []
  },
  {
   "cell_type": "markdown",
   "metadata": {},
   "source": [
    "### write the new reduced lines into a new file\n",
    "\n",
    "    Using the f.write() method"
   ]
  },
  {
   "cell_type": "code",
   "execution_count": 114,
   "metadata": {},
   "outputs": [],
   "source": [
    "output = open('/Users/Xiaoxi/Desktop/BitTiger/Capstone/data/output/all.log','w+')"
   ]
  },
  {
   "cell_type": "code",
   "execution_count": 115,
   "metadata": {},
   "outputs": [
    {
     "name": "stdout",
     "output_type": "stream",
     "text": [
      "processing file: 20170301_play.log\n",
      "...costs 16.43 seconds\n",
      "processing file: 20170501_1_play.log\n",
      "...costs 4.33 seconds\n"
     ]
    }
   ],
   "source": [
    "import time\n",
    "\n",
    "for the_file in files:\n",
    "    current_time = time.clock()\n",
    "\n",
    "    with open(the_file, 'r') as f:\n",
    "        lines = f.readlines()\n",
    "        print('processing file: %s' % f.name.split('/')[-1])\n",
    "        for line in lines:\n",
    "            fields_to_keep = line.strip('\\n').split('\\t')[:2]\n",
    "            fields_to_keep.append(f.name.split('/')[-1])\n",
    "            output.write('\\t'.join(fields_to_keep)+'\\n')\n",
    "    print('...costs %.2f seconds' % (time.clock()-current_time))\n",
    "    current_time = time.clock()"
   ]
  },
  {
   "cell_type": "code",
   "execution_count": 116,
   "metadata": {},
   "outputs": [],
   "source": [
    "output.close()\n"
   ]
  },
  {
   "cell_type": "code",
   "execution_count": 117,
   "metadata": {},
   "outputs": [
    {
     "data": {
      "text/plain": [
       "4414457"
      ]
     },
     "execution_count": 117,
     "metadata": {},
     "output_type": "execute_result"
    }
   ],
   "source": [
    "with open('/Users/Xiaoxi/Desktop/BitTiger/Capstone/data/output/all.log','r') as output:\n",
    "    lines = output.readlines()\n",
    "len(lines)"
   ]
  },
  {
   "cell_type": "code",
   "execution_count": 118,
   "metadata": {},
   "outputs": [
    {
     "data": {
      "text/plain": [
       "4414457"
      ]
     },
     "execution_count": 118,
     "metadata": {},
     "output_type": "execute_result"
    }
   ],
   "source": [
    "sum(log_lengths)"
   ]
  },
  {
   "cell_type": "code",
   "execution_count": 119,
   "metadata": {},
   "outputs": [
    {
     "data": {
      "text/plain": [
       "'264715\\t20170301_play.log\\n'"
      ]
     },
     "execution_count": 119,
     "metadata": {},
     "output_type": "execute_result"
    }
   ],
   "source": [
    "lines[0]"
   ]
  },
  {
   "cell_type": "markdown",
   "metadata": {},
   "source": [
    "### Save the user_ids into sets\n",
    "\n",
    "  Overwrite the all.log just created, as the procedure below will create user_id sets and all.log file at the same time"
   ]
  },
  {
   "cell_type": "code",
   "execution_count": 120,
   "metadata": {},
   "outputs": [
    {
     "name": "stderr",
     "output_type": "stream",
     "text": [
      "/Users/Xiaoxi/anaconda2/lib/python2.7/site-packages/ipykernel_launcher.py:1: DeprecationWarning: the sets module is deprecated\n",
      "  \"\"\"Entry point for launching an IPython kernel.\n"
     ]
    }
   ],
   "source": [
    "import time\n",
    "from sets import Set\n",
    "\n",
    "list_of_sets = []\n",
    "# for each day's data, set the active users' user_id into a set.\n"
   ]
  },
  {
   "cell_type": "code",
   "execution_count": 121,
   "metadata": {},
   "outputs": [
    {
     "name": "stdout",
     "output_type": "stream",
     "text": [
      "processing file: 20170301_play.log\n",
      "...costs 20.28 seconds\n",
      "processing file: 20170501_1_play.log\n",
      "...costs 5.16 seconds\n"
     ]
    }
   ],
   "source": [
    "with open('/Users/Xiaoxi/Desktop/BitTiger/Capstone/data/output/all.log','w+') as output:\n",
    "    for the_file in files:\n",
    "        current_time = time.clock()\n",
    "        \n",
    "        with open(the_file, 'r') as f:\n",
    "            print('processing file: %s' % f.name.split('/')[-1])\n",
    "            lines = f.readlines()\n",
    "            list_of_sets.append(Set([line.split('\\t')[0] for line in lines]))\n",
    "            \n",
    "            for line in lines:\n",
    "                fields = line.strip('\\n').split('\\t')\n",
    "                fields.append(f.name.split('/')[-1][:8])\n",
    "                output.write('\\t'.join(fields)+'\\n')\n",
    "        print('...costs %.2f seconds' % (time.clock()-current_time))\n"
   ]
  },
  {
   "cell_type": "code",
   "execution_count": 123,
   "metadata": {},
   "outputs": [
    {
     "data": {
      "text/plain": [
       "[175191, 25489]"
      ]
     },
     "execution_count": 123,
     "metadata": {},
     "output_type": "execute_result"
    }
   ],
   "source": [
    "[len(each_set) for each_set in list_of_sets]\n"
   ]
  },
  {
   "cell_type": "markdown",
   "metadata": {},
   "source": [
    "### Churn labeling and file saving\n",
    "\n",
    "    Save the user_id of churns into a new file."
   ]
  },
  {
   "cell_type": "code",
   "execution_count": 124,
   "metadata": {
    "collapsed": true
   },
   "outputs": [],
   "source": [
    "active_before, active_after = list_of_sets[0],list_of_sets[1]\n"
   ]
  },
  {
   "cell_type": "code",
   "execution_count": 125,
   "metadata": {},
   "outputs": [
    {
     "data": {
      "text/plain": [
       "0"
      ]
     },
     "execution_count": 125,
     "metadata": {},
     "output_type": "execute_result"
    }
   ],
   "source": [
    "# set method: s.intersection(t) returns the interset of s & t\n",
    "loyal_users = active_before.intersection(active_after)\n",
    "len(loyal_users)"
   ]
  },
  {
   "cell_type": "code",
   "execution_count": 126,
   "metadata": {},
   "outputs": [
    {
     "data": {
      "text/plain": [
       "175191"
      ]
     },
     "execution_count": 126,
     "metadata": {},
     "output_type": "execute_result"
    }
   ],
   "source": [
    "# set method: s.difference(t) returns a new set with elements in s but not in t\n",
    "churn = active_before.difference(active_after)\n",
    "len(churn)"
   ]
  },
  {
   "cell_type": "code",
   "execution_count": 127,
   "metadata": {},
   "outputs": [
    {
     "data": {
      "text/plain": [
       "25489"
      ]
     },
     "execution_count": 127,
     "metadata": {},
     "output_type": "execute_result"
    }
   ],
   "source": [
    "new_users = active_after.difference(active_before)\n",
    "len(new_users)"
   ]
  },
  {
   "cell_type": "code",
   "execution_count": null,
   "metadata": {
    "collapsed": true
   },
   "outputs": [],
   "source": []
  }
 ],
 "metadata": {
  "kernelspec": {
   "display_name": "Python 2",
   "language": "python",
   "name": "python2"
  },
  "language_info": {
   "codemirror_mode": {
    "name": "ipython",
    "version": 2
   },
   "file_extension": ".py",
   "mimetype": "text/x-python",
   "name": "python",
   "nbconvert_exporter": "python",
   "pygments_lexer": "ipython2",
   "version": "2.7.14"
  }
 },
 "nbformat": 4,
 "nbformat_minor": 2
}
