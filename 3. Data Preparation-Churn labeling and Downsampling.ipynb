{
 "cells": [
  {
   "cell_type": "markdown",
   "metadata": {},
   "source": [
    "## Data Preparation: Churn labeling and Downsampling\n",
    "\n",
    "#### 1. Read the *play.log files line by line, and write only the user ID, device and date of log into a separate file.\n",
    "\n",
    "#### 2. Label churn users: those who played more than three times before the cutoff day but had no acitivity after the cutoff.\n",
    "\n",
    "#### 3. Down sampling is necessary. There are more than 50,000 users and 15 GB log data, which is not necessary for the churn prediction and which costs too much time to process. I used  a down sampling ratio of 1/10, to only include 1/10 users from the active and churn users for the churn prediction model."
   ]
  },
  {
   "cell_type": "markdown",
   "metadata": {},
   "source": [
    "### 1. Churn labeling\n"
   ]
  },
  {
   "cell_type": "code",
   "execution_count": 1,
   "metadata": {
    "collapsed": true
   },
   "outputs": [],
   "source": [
    "import glob\n"
   ]
  },
  {
   "cell_type": "code",
   "execution_count": 2,
   "metadata": {},
   "outputs": [
    {
     "data": {
      "text/plain": [
       "138"
      ]
     },
     "execution_count": 2,
     "metadata": {},
     "output_type": "execute_result"
    }
   ],
   "source": [
    "filepath = '/Volumes/SHARE/Bittiger/Capstone/data/play/*play.log'\n",
    "files = glob.glob(filepath)\n",
    "# amount of files\n",
    "len(files)"
   ]
  },
  {
   "cell_type": "code",
   "execution_count": 7,
   "metadata": {},
   "outputs": [
    {
     "data": {
      "text/plain": [
       "'/Volumes/SHARE/Bittiger/Capstone/data/play/20170302_1_play.log'"
      ]
     },
     "execution_count": 7,
     "metadata": {},
     "output_type": "execute_result"
    }
   ],
   "source": [
    "# take a look at one of the files\n",
    "files[0]"
   ]
  },
  {
   "cell_type": "code",
   "execution_count": 8,
   "metadata": {},
   "outputs": [
    {
     "data": {
      "text/plain": [
       "2452954"
      ]
     },
     "execution_count": 8,
     "metadata": {},
     "output_type": "execute_result"
    }
   ],
   "source": [
    "# get an idea how many lines are in one .log file\n",
    "with open(files[0],'r') as f:\n",
    "    lines = f.readlines()\n",
    "    log_lines = len(lines)\n",
    "log_lines"
   ]
  },
  {
   "cell_type": "code",
   "execution_count": 13,
   "metadata": {},
   "outputs": [
    {
     "data": {
      "text/plain": [
       "'154431666 \\tar \\t6651913 \\t0 \\t\\xe5\\x86\\x8d\\xe8\\xa7\\x81\\xe5\\x8f\\xaa\\xe6\\x98\\xaf\\xe9\\x99\\x8c\\xe7\\x94\\x9f\\xe4\\xba\\xba \\t\\xe5\\xba\\x84\\xe5\\xbf\\x83\\xe5\\xa6\\x8d \\t252 \\t251 \\t0\\n'"
      ]
     },
     "execution_count": 13,
     "metadata": {},
     "output_type": "execute_result"
    }
   ],
   "source": [
    "# Check one line\n",
    "lines[3]"
   ]
  },
  {
   "cell_type": "code",
   "execution_count": 15,
   "metadata": {},
   "outputs": [
    {
     "data": {
      "text/plain": [
       "['154431666 ',\n",
       " 'ar ',\n",
       " '6651913 ',\n",
       " '0 ',\n",
       " '\\xe5\\x86\\x8d\\xe8\\xa7\\x81\\xe5\\x8f\\xaa\\xe6\\x98\\xaf\\xe9\\x99\\x8c\\xe7\\x94\\x9f\\xe4\\xba\\xba ',\n",
       " '\\xe5\\xba\\x84\\xe5\\xbf\\x83\\xe5\\xa6\\x8d ',\n",
       " '252 ',\n",
       " '251 ',\n",
       " '0',\n",
       " '20170302_1_play.log']"
      ]
     },
     "execution_count": 15,
     "metadata": {},
     "output_type": "execute_result"
    }
   ],
   "source": [
    "test_list = lines[3].strip('\\n').split('\\t')\n",
    "test_list.append(files[0].split('/')[-1])\n",
    "test_list"
   ]
  },
  {
   "cell_type": "code",
   "execution_count": 16,
   "metadata": {},
   "outputs": [
    {
     "name": "stderr",
     "output_type": "stream",
     "text": [
      "/Users/Xiaoxi/anaconda2/lib/python2.7/site-packages/IPython/core/interactiveshell.py:2718: DtypeWarning: Columns (0) have mixed types. Specify dtype option on import or set low_memory=False.\n",
      "  interactivity=interactivity, compiler=compiler, result=result)\n"
     ]
    },
    {
     "data": {
      "text/html": [
       "<div>\n",
       "<style>\n",
       "    .dataframe thead tr:only-child th {\n",
       "        text-align: right;\n",
       "    }\n",
       "\n",
       "    .dataframe thead th {\n",
       "        text-align: left;\n",
       "    }\n",
       "\n",
       "    .dataframe tbody tr th {\n",
       "        vertical-align: top;\n",
       "    }\n",
       "</style>\n",
       "<table border=\"1\" class=\"dataframe\">\n",
       "  <thead>\n",
       "    <tr style=\"text-align: right;\">\n",
       "      <th></th>\n",
       "      <th>uid</th>\n",
       "      <th>device</th>\n",
       "      <th>song_id</th>\n",
       "      <th>song_type</th>\n",
       "      <th>song_name</th>\n",
       "      <th>singer</th>\n",
       "      <th>play_time</th>\n",
       "      <th>song_length</th>\n",
       "      <th>paid_flag</th>\n",
       "      <th>file_name</th>\n",
       "    </tr>\n",
       "  </thead>\n",
       "  <tbody>\n",
       "    <tr>\n",
       "      <th>0</th>\n",
       "      <td>264715</td>\n",
       "      <td>NaN</td>\n",
       "      <td>NaN</td>\n",
       "      <td>NaN</td>\n",
       "      <td>NaN</td>\n",
       "      <td>NaN</td>\n",
       "      <td>NaN</td>\n",
       "      <td>NaN</td>\n",
       "      <td>NaN</td>\n",
       "      <td>NaN</td>\n",
       "    </tr>\n",
       "    <tr>\n",
       "      <th>1</th>\n",
       "      <td>292363</td>\n",
       "      <td>NaN</td>\n",
       "      <td>NaN</td>\n",
       "      <td>NaN</td>\n",
       "      <td>NaN</td>\n",
       "      <td>NaN</td>\n",
       "      <td>NaN</td>\n",
       "      <td>NaN</td>\n",
       "      <td>NaN</td>\n",
       "      <td>NaN</td>\n",
       "    </tr>\n",
       "    <tr>\n",
       "      <th>2</th>\n",
       "      <td>1.54825e+08</td>\n",
       "      <td>ar</td>\n",
       "      <td>3300104</td>\n",
       "      <td>0</td>\n",
       "      <td>Not A Love Song</td>\n",
       "      <td>Bean</td>\n",
       "      <td>22</td>\n",
       "      <td>178</td>\n",
       "      <td>0.0</td>\n",
       "      <td>NaN</td>\n",
       "    </tr>\n",
       "    <tr>\n",
       "      <th>3</th>\n",
       "      <td>1.54432e+08</td>\n",
       "      <td>ar</td>\n",
       "      <td>6651913</td>\n",
       "      <td>0</td>\n",
       "      <td>再见只是陌生人</td>\n",
       "      <td>庄心妍</td>\n",
       "      <td>252</td>\n",
       "      <td>251</td>\n",
       "      <td>0.0</td>\n",
       "      <td>NaN</td>\n",
       "    </tr>\n",
       "    <tr>\n",
       "      <th>4</th>\n",
       "      <td>1.54439e+08</td>\n",
       "      <td>ar</td>\n",
       "      <td>20870987</td>\n",
       "      <td>0</td>\n",
       "      <td>哥哥</td>\n",
       "      <td>张杰</td>\n",
       "      <td>358</td>\n",
       "      <td>358</td>\n",
       "      <td>0.0</td>\n",
       "      <td>NaN</td>\n",
       "    </tr>\n",
       "  </tbody>\n",
       "</table>\n",
       "</div>"
      ],
      "text/plain": [
       "           uid device    song_id song_type         song_name singer play_time  \\\n",
       "0       264715    NaN        NaN       NaN               NaN    NaN       NaN   \n",
       "1       292363    NaN        NaN       NaN               NaN    NaN       NaN   \n",
       "2  1.54825e+08    ar    3300104         0   Not A Love Song   Bean        22    \n",
       "3  1.54432e+08    ar    6651913         0           再见只是陌生人    庄心妍       252    \n",
       "4  1.54439e+08    ar   20870987         0                哥哥     张杰       358    \n",
       "\n",
       "  song_length  paid_flag  file_name  \n",
       "0         NaN        NaN        NaN  \n",
       "1         NaN        NaN        NaN  \n",
       "2        178         0.0        NaN  \n",
       "3        251         0.0        NaN  \n",
       "4        358         0.0        NaN  "
      ]
     },
     "execution_count": 16,
     "metadata": {},
     "output_type": "execute_result"
    }
   ],
   "source": [
    "import pandas as pd\n",
    "\n",
    "schema = ['uid','device','song_id','song_type','song_name','singer','play_time','song_length','paid_flag','file_name']\n",
    "df = pd.read_csv(files[0], delimiter='\\t',header=None,index_col=None,names=schema)\n",
    "df.head()\n",
    "# Note the file_name will be added later"
   ]
  },
  {
   "cell_type": "code",
   "execution_count": null,
   "metadata": {
    "collapsed": true
   },
   "outputs": [],
   "source": []
  },
  {
   "cell_type": "markdown",
   "metadata": {},
   "source": [
    "### Save reduced play logs to two log files.\n",
    "Only the first two items of each line, user id and device, and the date of the log are saved, so it's called reduced play logs."
   ]
  },
  {
   "cell_type": "code",
   "execution_count": 18,
   "metadata": {
    "collapsed": true
   },
   "outputs": [],
   "source": [
    "# 04/22 is the cutoff date for labeling churns\n",
    "cutoff = '20170422'"
   ]
  },
  {
   "cell_type": "code",
   "execution_count": 2,
   "metadata": {
    "collapsed": true
   },
   "outputs": [],
   "source": [
    "# destination file names to save the reduced logs.\n",
    "first_period_log = '/Users/Xiaoxi/Desktop/BitTiger/Capstone/data/output/play_till_cutoff.log'\n",
    "second_period_log = '/Users/Xiaoxi/Desktop/BitTiger/Capstone/data/output/play_after_cutoff.log'"
   ]
  },
  {
   "cell_type": "code",
   "execution_count": 25,
   "metadata": {},
   "outputs": [
    {
     "name": "stdout",
     "output_type": "stream",
     "text": [
      "processing file: 20170302_1_play.log\n",
      "...costs 9.31 seconds\n",
      "processing file: 20170303_1_play.log\n",
      "...costs 5.91 seconds\n",
      "processing file: 20170304_1_play.log\n",
      "...costs 5.31 seconds\n",
      "processing file: 20170305_1_play.log\n",
      "...costs 4.67 seconds\n",
      "processing file: 20170306_1_play.log\n",
      "...costs 3.98 seconds\n",
      "processing file: 20170307_1_play.log\n",
      "...costs 3.81 seconds\n",
      "processing file: 20170308_1_play.log\n",
      "...costs 3.80 seconds\n",
      "processing file: 20170309_1_play.log\n",
      "...costs 3.52 seconds\n",
      "processing file: 20170330_3_play.log\n",
      "...costs 14.03 seconds\n",
      "processing file: 20170331_1_play.log\n",
      "...costs 5.85 seconds\n",
      "processing file: 20170331_2_play.log\n",
      "...costs 5.98 seconds\n",
      "processing file: 20170331_3_play.log\n",
      "...costs 8.49 seconds\n",
      "processing file: 20170339_1_play.log\n",
      "...costs 6.55 seconds\n",
      "processing file: 20170401_1_play.log\n",
      "...costs 4.85 seconds\n",
      "processing file: 20170401_2_play.log\n",
      "...costs 5.56 seconds\n",
      "processing file: 20170401_3_play.log\n",
      "...costs 6.17 seconds\n",
      "processing file: 20170402_1_play.log\n",
      "...costs 5.00 seconds\n",
      "processing file: 20170402_2_play.log\n",
      "...costs 5.59 seconds\n",
      "processing file: 20170402_3_play.log\n",
      "...costs 5.80 seconds\n",
      "processing file: 20170403_1_play.log\n",
      "...costs 4.85 seconds\n",
      "processing file: 20170403_2_play.log\n",
      "...costs 5.36 seconds\n",
      "processing file: 20170404_1_play.log\n",
      "...costs 7.70 seconds\n",
      "processing file: 20170404_2_play.log\n",
      "...costs 11.10 seconds\n",
      "processing file: 20170404_3_play.log\n",
      "...costs 8.00 seconds\n",
      "processing file: 20170405_1_play.log\n",
      "...costs 7.64 seconds\n",
      "processing file: 20170405_2_play.log\n",
      "...costs 6.55 seconds\n",
      "processing file: 20170405_3_play.log\n",
      "...costs 6.53 seconds\n",
      "processing file: 20170406_1_play.log\n",
      "...costs 6.25 seconds\n",
      "processing file: 20170406_2_play.log\n",
      "...costs 6.53 seconds\n",
      "processing file: 20170406_3_play.log\n",
      "...costs 10.76 seconds\n",
      "processing file: 20170407_1_play.log\n",
      "...costs 6.76 seconds\n",
      "processing file: 20170407_2_play.log\n",
      "...costs 7.62 seconds\n",
      "processing file: 20170407_3_play.log\n",
      "...costs 7.73 seconds\n",
      "processing file: 20170408_1_play.log\n",
      "...costs 6.72 seconds\n",
      "processing file: 20170408_2_play.log\n",
      "...costs 4.51 seconds\n",
      "processing file: 20170408_3_play.log\n",
      "...costs 3.90 seconds\n",
      "processing file: 20170409_1_play.log\n",
      "...costs 3.67 seconds\n",
      "processing file: 20170409_2_play.log\n",
      "...costs 3.74 seconds\n",
      "processing file: 20170409_3_play.log\n",
      "...costs 3.82 seconds\n",
      "processing file: 20170410_1_play.log\n",
      "...costs 3.20 seconds\n",
      "processing file: 20170410_2_play.log\n",
      "...costs 3.27 seconds\n",
      "processing file: 20170410_3_play.log\n",
      "...costs 3.24 seconds\n",
      "processing file: 20170411_1_play.log\n",
      "...costs 3.27 seconds\n",
      "processing file: 20170411_2_play.log\n",
      "...costs 3.35 seconds\n",
      "processing file: 20170412_1_play.log\n",
      "...costs 3.35 seconds\n",
      "processing file: 20170412_2_play.log\n",
      "...costs 3.47 seconds\n",
      "processing file: 20170412_3_play.log\n",
      "...costs 3.38 seconds\n",
      "processing file: 20170413_1_play.log\n",
      "...costs 3.33 seconds\n",
      "processing file: 20170413_2_play.log\n",
      "...costs 3.62 seconds\n",
      "processing file: 20170413_3_play.log\n",
      "...costs 3.26 seconds\n",
      "processing file: 20170414_1_play.log\n",
      "...costs 2.46 seconds\n",
      "processing file: 20170414_2_play.log\n",
      "...costs 2.22 seconds\n",
      "processing file: 20170414_3_play.log\n",
      "...costs 2.30 seconds\n",
      "processing file: 20170415_1_play.log\n",
      "...costs 3.35 seconds\n",
      "processing file: 20170415_2_play.log\n",
      "...costs 3.32 seconds\n",
      "processing file: 20170415_3_play.log\n",
      "...costs 3.41 seconds\n",
      "processing file: 20170416_1_play.log\n",
      "...costs 3.38 seconds\n",
      "processing file: 20170416_2_play.log\n",
      "...costs 3.30 seconds\n",
      "processing file: 20170416_3_play.log\n",
      "...costs 3.38 seconds\n",
      "processing file: 20170417_1_play.log\n",
      "...costs 2.91 seconds\n",
      "processing file: 20170417_2_play.log\n",
      "...costs 2.93 seconds\n",
      "processing file: 20170417_3_play.log\n",
      "...costs 2.99 seconds\n",
      "processing file: 20170418_1_play.log\n",
      "...costs 2.86 seconds\n",
      "processing file: 20170418_2_play.log\n",
      "...costs 3.81 seconds\n",
      "processing file: 20170418_3_play.log\n",
      "...costs 6.80 seconds\n",
      "processing file: 20170419_1_play.log\n",
      "...costs 6.70 seconds\n",
      "processing file: 20170419_2_play.log\n",
      "...costs 5.89 seconds\n",
      "processing file: 20170419_3_play.log\n",
      "...costs 4.57 seconds\n",
      "processing file: 20170420_1_play.log\n",
      "...costs 6.09 seconds\n",
      "processing file: 20170420_2_play.log\n",
      "...costs 8.78 seconds\n",
      "processing file: 20170420_3_play.log\n",
      "...costs 7.82 seconds\n",
      "processing file: 20170421_1_play.log\n",
      "...costs 5.11 seconds\n",
      "processing file: 20170421_2_play.log\n",
      "...costs 5.02 seconds\n",
      "processing file: 20170421_3_play.log\n",
      "...costs 6.74 seconds\n",
      "processing file: 20170422_1_play.log\n",
      "...costs 6.91 seconds\n",
      "processing file: 20170422_2_play.log\n",
      "...costs 6.52 seconds\n",
      "processing file: 20170422_3_play.log\n",
      "...costs 6.49 seconds\n",
      "processing file: 20170423_1_play.log\n",
      "...costs 7.61 seconds\n",
      "processing file: 20170423_2_play.log\n",
      "...costs 7.24 seconds\n",
      "processing file: 20170423_3_play.log\n",
      "...costs 8.66 seconds\n",
      "processing file: 20170424_1_play.log\n",
      "...costs 5.23 seconds\n",
      "processing file: 20170424_2_play.log\n",
      "...costs 1.07 seconds\n",
      "processing file: 20170424_3_play.log\n",
      "...costs 7.45 seconds\n",
      "processing file: 20170425_1_play.log\n",
      "...costs 9.45 seconds\n",
      "processing file: 20170425_2_play.log\n",
      "...costs 7.64 seconds\n",
      "processing file: 20170425_3_play.log\n",
      "...costs 8.82 seconds\n",
      "processing file: 20170426_1_play.log\n",
      "...costs 5.08 seconds\n",
      "processing file: 20170426_2_play.log\n",
      "...costs 2.91 seconds\n",
      "processing file: 20170426_3_play.log\n",
      "...costs 2.79 seconds\n",
      "processing file: 20170427_1_play.log\n",
      "...costs 2.85 seconds\n",
      "processing file: 20170427_2_play.log\n",
      "...costs 2.75 seconds\n",
      "processing file: 20170427_3_play.log\n",
      "...costs 3.64 seconds\n",
      "processing file: 20170428_1_play.log\n",
      "...costs 2.89 seconds\n",
      "processing file: 20170428_2_play.log\n",
      "...costs 3.02 seconds\n",
      "processing file: 20170428_3_play.log\n",
      "...costs 2.90 seconds\n",
      "processing file: 20170429_1_play.log\n",
      "...costs 3.14 seconds\n",
      "processing file: 20170429_2_play.log\n",
      "...costs 3.19 seconds\n",
      "processing file: 20170429_3_play.log\n",
      "...costs 3.25 seconds\n",
      "processing file: 20170430_1_play.log\n",
      "...costs 2.84 seconds\n",
      "processing file: 20170430_2_play.log\n",
      "...costs 3.03 seconds\n",
      "processing file: 20170430_3_play.log\n",
      "...costs 2.93 seconds\n",
      "processing file: 20170501_1_play.log\n",
      "...costs 2.83 seconds\n",
      "processing file: 20170501_2_play.log\n",
      "...costs 2.75 seconds\n",
      "processing file: 20170501_3_play.log\n",
      "...costs 2.82 seconds\n",
      "processing file: 20170502_1_play.log\n",
      "...costs 2.55 seconds\n",
      "processing file: 20170502_2_play.log\n",
      "...costs 2.46 seconds\n",
      "processing file: 20170502_3_play.log\n",
      "...costs 2.46 seconds\n",
      "processing file: 20170503_1_play.log\n",
      "...costs 2.86 seconds\n",
      "processing file: 20170503_2_play.log\n",
      "...costs 2.42 seconds\n",
      "processing file: 20170503_3_play.log\n",
      "...costs 2.33 seconds\n",
      "processing file: 20170504_1_play.log\n",
      "...costs 2.37 seconds\n",
      "processing file: 20170504_2_play.log\n",
      "...costs 2.33 seconds\n",
      "processing file: 20170504_3_play.log\n",
      "...costs 2.28 seconds\n",
      "processing file: 20170505_1_play.log\n",
      "...costs 2.62 seconds\n",
      "processing file: 20170505_2_play.log\n",
      "...costs 2.39 seconds\n",
      "processing file: 20170505_3_play.log\n",
      "...costs 2.28 seconds\n",
      "processing file: 20170506_1_play.log\n",
      "...costs 2.68 seconds\n",
      "processing file: 20170506_2_play.log\n",
      "...costs 2.75 seconds\n",
      "processing file: 20170506_3_play.log\n",
      "...costs 2.61 seconds\n",
      "processing file: 20170507_1_play.log\n",
      "...costs 2.57 seconds\n",
      "processing file: 20170507_2_play.log\n",
      "...costs 2.61 seconds\n",
      "processing file: 20170507_3_play.log\n",
      "...costs 2.55 seconds\n",
      "processing file: 20170508_1_play.log\n",
      "...costs 2.39 seconds\n",
      "processing file: 20170508_2_play.log\n",
      "...costs 2.36 seconds\n",
      "processing file: 20170508_3_play.log\n",
      "...costs 2.27 seconds\n",
      "processing file: 20170509_1_play.log\n",
      "...costs 2.47 seconds\n",
      "processing file: 20170509_2_play.log\n",
      "...costs 2.36 seconds\n",
      "processing file: 20170509_3_play.log\n",
      "...costs 2.29 seconds\n",
      "processing file: 20170510_1_play.log\n",
      "...costs 2.31 seconds\n",
      "processing file: 20170510_2_play.log\n",
      "...costs 2.33 seconds\n",
      "processing file: 20170510_3_play.log\n",
      "...costs 2.30 seconds\n",
      "processing file: 20170511_1_play.log\n",
      "...costs 2.42 seconds\n",
      "processing file: 20170511_2_play.log\n",
      "...costs 2.26 seconds\n",
      "processing file: 20170511_3_play.log\n",
      "...costs 2.29 seconds\n",
      "processing file: 20170512_1_play.log\n",
      "...costs 2.36 seconds\n",
      "processing file: 20170512_2_play.log\n",
      "...costs 2.42 seconds\n",
      "processing file: 20170512_3_play.log\n",
      "...costs 2.31 seconds\n",
      "processing file: 20170301_play.log\n",
      "...costs 9.94 seconds\n"
     ]
    }
   ],
   "source": [
    "import time\n",
    "\n",
    "for each_file in files:\n",
    "    current_time = time.clock()\n",
    "\n",
    "    with open(each_file, 'r') as f:\n",
    "        lines = f.readlines()\n",
    "        filename = f.name.split('/')[-1]\n",
    "        print('processing file: %s' % filename)\n",
    "        #choose the output path\n",
    "        if filename < cutoff:\n",
    "            output_path = first_period_log\n",
    "        else:\n",
    "            output_path = second_period_log\n",
    "        # write to the output file\n",
    "        with open(output_path, 'a') as output:\n",
    "            for line in lines:\n",
    "                fields_to_keep = line.strip('\\n').split('\\t')[:2]\n",
    "                fields_to_keep.append(filename)\n",
    "                output.write('\\t'.join(fields_to_keep)+'\\n')\n",
    "    print('...costs %.2f seconds' % (time.clock()-current_time))"
   ]
  },
  {
   "cell_type": "code",
   "execution_count": 3,
   "metadata": {},
   "outputs": [
    {
     "data": {
      "text/html": [
       "<div>\n",
       "<style>\n",
       "    .dataframe thead tr:only-child th {\n",
       "        text-align: right;\n",
       "    }\n",
       "\n",
       "    .dataframe thead th {\n",
       "        text-align: left;\n",
       "    }\n",
       "\n",
       "    .dataframe tbody tr th {\n",
       "        vertical-align: top;\n",
       "    }\n",
       "</style>\n",
       "<table border=\"1\" class=\"dataframe\">\n",
       "  <thead>\n",
       "    <tr style=\"text-align: right;\">\n",
       "      <th></th>\n",
       "      <th>uid</th>\n",
       "      <th>device</th>\n",
       "      <th>file_name</th>\n",
       "    </tr>\n",
       "  </thead>\n",
       "  <tbody>\n",
       "    <tr>\n",
       "      <th>0</th>\n",
       "      <td>264715</td>\n",
       "      <td>20170302_1_play.log</td>\n",
       "      <td>NaN</td>\n",
       "    </tr>\n",
       "    <tr>\n",
       "      <th>1</th>\n",
       "      <td>292363</td>\n",
       "      <td>20170302_1_play.log</td>\n",
       "      <td>NaN</td>\n",
       "    </tr>\n",
       "    <tr>\n",
       "      <th>2</th>\n",
       "      <td>154824972</td>\n",
       "      <td>ar</td>\n",
       "      <td>20170302_1_play.log</td>\n",
       "    </tr>\n",
       "    <tr>\n",
       "      <th>3</th>\n",
       "      <td>154431666</td>\n",
       "      <td>ar</td>\n",
       "      <td>20170302_1_play.log</td>\n",
       "    </tr>\n",
       "    <tr>\n",
       "      <th>4</th>\n",
       "      <td>154439430</td>\n",
       "      <td>ar</td>\n",
       "      <td>20170302_1_play.log</td>\n",
       "    </tr>\n",
       "  </tbody>\n",
       "</table>\n",
       "</div>"
      ],
      "text/plain": [
       "          uid               device            file_name\n",
       "0      264715  20170302_1_play.log                  NaN\n",
       "1      292363  20170302_1_play.log                  NaN\n",
       "2  154824972                   ar   20170302_1_play.log\n",
       "3  154431666                   ar   20170302_1_play.log\n",
       "4  154439430                   ar   20170302_1_play.log"
      ]
     },
     "execution_count": 3,
     "metadata": {},
     "output_type": "execute_result"
    }
   ],
   "source": [
    "import pandas as pd\n",
    "\n",
    "schema = ['uid','device','file_name']\n",
    "df_1 = pd.read_csv(first_period_log,delimiter='\\t',header=None,index_col=None,names=schema, dtype = {'uid':'str'})\n",
    "df_1.head()"
   ]
  },
  {
   "cell_type": "code",
   "execution_count": 80,
   "metadata": {},
   "outputs": [
    {
     "name": "stdout",
     "output_type": "stream",
     "text": [
      "<class 'pandas.core.frame.DataFrame'>\n",
      "RangeIndex: 107151848 entries, 0 to 107151847\n",
      "Data columns (total 3 columns):\n",
      "uid          object\n",
      "device       object\n",
      "file_name    object\n",
      "dtypes: object(3)\n",
      "memory usage: 2.4+ GB\n"
     ]
    }
   ],
   "source": [
    "df_1.info()"
   ]
  },
  {
   "cell_type": "code",
   "execution_count": 35,
   "metadata": {
    "collapsed": true
   },
   "outputs": [],
   "source": [
    "# change file_name to date\n",
    "def get_date(file_name):\n",
    "    tmp_list = str(file_name).split('_')\n",
    "    return tmp_list[0]\n",
    "df_1['date'] = df_1['file_name'].map(get_date)"
   ]
  },
  {
   "cell_type": "code",
   "execution_count": 39,
   "metadata": {
    "collapsed": true
   },
   "outputs": [],
   "source": [
    "df_1 = df_1.drop(['file_name'], axis = 1)"
   ]
  },
  {
   "cell_type": "code",
   "execution_count": null,
   "metadata": {
    "collapsed": true
   },
   "outputs": [],
   "source": []
  },
  {
   "cell_type": "code",
   "execution_count": null,
   "metadata": {
    "collapsed": true
   },
   "outputs": [],
   "source": []
  },
  {
   "cell_type": "markdown",
   "metadata": {},
   "source": [
    "### Explore the data"
   ]
  },
  {
   "cell_type": "code",
   "execution_count": 81,
   "metadata": {},
   "outputs": [
    {
     "data": {
      "text/plain": [
       "847330"
      ]
     },
     "execution_count": 81,
     "metadata": {},
     "output_type": "execute_result"
    }
   ],
   "source": [
    "len(df_1['uid'].unique())"
   ]
  },
  {
   "cell_type": "code",
   "execution_count": 7,
   "metadata": {},
   "outputs": [
    {
     "data": {
      "text/plain": [
       "array(['20170302_1_play.log', 'ar ', 'ip ', '20170303_1_play.log', 'ar',\n",
       "       'ip', 'mc', 'wp', '20170339_1_play.log', '168589573', nan,\n",
       "       '20170301_play.log'], dtype=object)"
      ]
     },
     "execution_count": 7,
     "metadata": {},
     "output_type": "execute_result"
    }
   ],
   "source": [
    "df_1['device'].unique()"
   ]
  },
  {
   "cell_type": "code",
   "execution_count": 8,
   "metadata": {},
   "outputs": [
    {
     "data": {
      "text/plain": [
       "76"
      ]
     },
     "execution_count": 8,
     "metadata": {},
     "output_type": "execute_result"
    }
   ],
   "source": [
    "len(df_1['file_name'].unique())"
   ]
  },
  {
   "cell_type": "code",
   "execution_count": 4,
   "metadata": {},
   "outputs": [
    {
     "data": {
      "text/plain": [
       "1685126       3926060\n",
       "37025504      2845076\n",
       "751824        2265356\n",
       "1791497       1995972\n",
       "497685        1506558\n",
       "1062806       1258860\n",
       "736305         943003\n",
       "1685126        628327\n",
       "0              605211\n",
       "37025504       460375\n",
       "1749320        402496\n",
       "1679121        261558\n",
       "46532274       252227\n",
       "28638487       211480\n",
       "637650         116820\n",
       "26036032       114823\n",
       "155948236      106490\n",
       "533817          82783\n",
       "32166203        77942\n",
       "1749320         72429\n",
       "64268006        70534\n",
       "398309          56301\n",
       "28638487        53793\n",
       "1883192         42583\n",
       "0               40719\n",
       "736305          39938\n",
       "154539052       37003\n",
       "168127634       35009\n",
       "22730453        34422\n",
       "16517426        34282\n",
       "               ...   \n",
       "168735668           1\n",
       "154524886           1\n",
       "168825011           1\n",
       "167991919           1\n",
       "168590429           1\n",
       "154673690           1\n",
       "154702268           1\n",
       "168661192           1\n",
       "169012773           1\n",
       "168652788           1\n",
       "168925553           1\n",
       "168640371           1\n",
       "158236195           1\n",
       "168819795           1\n",
       "168708431           1\n",
       "168708438           1\n",
       "168937785           1\n",
       "167642855           1\n",
       "154810077           1\n",
       "168257009           1\n",
       "26853719            1\n",
       "154675449           1\n",
       "168321125           1\n",
       "167618959           1\n",
       "154818087           1\n",
       "168892992           1\n",
       "168731007           1\n",
       "168599168           1\n",
       "168892990           1\n",
       "168032098           1\n",
       "Name: uid, Length: 847329, dtype: int64"
      ]
     },
     "execution_count": 4,
     "metadata": {},
     "output_type": "execute_result"
    }
   ],
   "source": [
    "df_1.uid.value_counts()"
   ]
  },
  {
   "cell_type": "markdown",
   "metadata": {},
   "source": [
    "Looks like uid = 0 should be testing id. And those uid with log numbers larger than that of uid = 0 may be robot. Check the device type of these ids. These user id will be deleted later.\n"
   ]
  },
  {
   "cell_type": "markdown",
   "metadata": {},
   "source": [
    "### Criteria of active user: number of activities before cutoff date >= 3\n",
    "### Criteria of churn user: active users that have no activity after cutoff date\n",
    "### Criteria of loyal user: a user has>= 3 activities before cutoff date and has recent activity after cutoff date"
   ]
  },
  {
   "cell_type": "code",
   "execution_count": 5,
   "metadata": {},
   "outputs": [
    {
     "data": {
      "text/plain": [
       "(735197, 112132)"
      ]
     },
     "execution_count": 5,
     "metadata": {},
     "output_type": "execute_result"
    }
   ],
   "source": [
    "# total number of active users and inactive users before the cutoff date\n",
    "active = df_1.uid.value_counts()>=3\n",
    "sum(active),sum(active==0)"
   ]
  },
  {
   "cell_type": "code",
   "execution_count": 6,
   "metadata": {},
   "outputs": [],
   "source": [
    "active_users = [active.index[i] for i in xrange(len(active)) if active[i]]"
   ]
  },
  {
   "cell_type": "code",
   "execution_count": 7,
   "metadata": {},
   "outputs": [
    {
     "data": {
      "text/plain": [
       "735197"
      ]
     },
     "execution_count": 7,
     "metadata": {},
     "output_type": "execute_result"
    }
   ],
   "source": [
    "len(active_users)"
   ]
  },
  {
   "cell_type": "code",
   "execution_count": 8,
   "metadata": {
    "collapsed": true
   },
   "outputs": [],
   "source": [
    "active_set = set(active_users)"
   ]
  },
  {
   "cell_type": "code",
   "execution_count": 9,
   "metadata": {},
   "outputs": [
    {
     "data": {
      "text/plain": [
       "735197"
      ]
     },
     "execution_count": 9,
     "metadata": {},
     "output_type": "execute_result"
    }
   ],
   "source": [
    "len(active_set)"
   ]
  },
  {
   "cell_type": "code",
   "execution_count": 10,
   "metadata": {},
   "outputs": [
    {
     "data": {
      "text/html": [
       "<div>\n",
       "<style>\n",
       "    .dataframe thead tr:only-child th {\n",
       "        text-align: right;\n",
       "    }\n",
       "\n",
       "    .dataframe thead th {\n",
       "        text-align: left;\n",
       "    }\n",
       "\n",
       "    .dataframe tbody tr th {\n",
       "        vertical-align: top;\n",
       "    }\n",
       "</style>\n",
       "<table border=\"1\" class=\"dataframe\">\n",
       "  <thead>\n",
       "    <tr style=\"text-align: right;\">\n",
       "      <th></th>\n",
       "      <th>uid</th>\n",
       "      <th>device</th>\n",
       "      <th>file_name</th>\n",
       "    </tr>\n",
       "  </thead>\n",
       "  <tbody>\n",
       "    <tr>\n",
       "      <th>0</th>\n",
       "      <td>751824</td>\n",
       "      <td>ar</td>\n",
       "      <td>20170422_1_play.log</td>\n",
       "    </tr>\n",
       "    <tr>\n",
       "      <th>1</th>\n",
       "      <td>167806444</td>\n",
       "      <td>ar</td>\n",
       "      <td>20170422_1_play.log</td>\n",
       "    </tr>\n",
       "    <tr>\n",
       "      <th>2</th>\n",
       "      <td>28638487</td>\n",
       "      <td>ar</td>\n",
       "      <td>20170422_1_play.log</td>\n",
       "    </tr>\n",
       "    <tr>\n",
       "      <th>3</th>\n",
       "      <td>167854540</td>\n",
       "      <td>ar</td>\n",
       "      <td>20170422_1_play.log</td>\n",
       "    </tr>\n",
       "    <tr>\n",
       "      <th>4</th>\n",
       "      <td>1685126</td>\n",
       "      <td>ar</td>\n",
       "      <td>20170422_1_play.log</td>\n",
       "    </tr>\n",
       "  </tbody>\n",
       "</table>\n",
       "</div>"
      ],
      "text/plain": [
       "         uid device            file_name\n",
       "0     751824     ar  20170422_1_play.log\n",
       "1  167806444     ar  20170422_1_play.log\n",
       "2   28638487     ar  20170422_1_play.log\n",
       "3  167854540     ar  20170422_1_play.log\n",
       "4    1685126     ar  20170422_1_play.log"
      ]
     },
     "execution_count": 10,
     "metadata": {},
     "output_type": "execute_result"
    }
   ],
   "source": [
    "# Now process the recent play.log file to get recent users.\n",
    "df_2 = pd.read_csv(second_period_log,delimiter='\\t',header=None,index_col=None,names=schema, dtype = {'uid':'str'})\n",
    "df_2.head()"
   ]
  },
  {
   "cell_type": "code",
   "execution_count": 11,
   "metadata": {},
   "outputs": [
    {
     "name": "stdout",
     "output_type": "stream",
     "text": [
      "<class 'pandas.core.frame.DataFrame'>\n",
      "RangeIndex: 57469042 entries, 0 to 57469041\n",
      "Data columns (total 3 columns):\n",
      "uid          object\n",
      "device       object\n",
      "file_name    object\n",
      "dtypes: object(3)\n",
      "memory usage: 1.3+ GB\n"
     ]
    }
   ],
   "source": [
    "df_2.info()\n"
   ]
  },
  {
   "cell_type": "code",
   "execution_count": 12,
   "metadata": {
    "collapsed": true
   },
   "outputs": [],
   "source": [
    "active_recent = df_2.uid.value_counts()"
   ]
  },
  {
   "cell_type": "code",
   "execution_count": 13,
   "metadata": {},
   "outputs": [
    {
     "data": {
      "text/plain": [
       "273222"
      ]
     },
     "execution_count": 13,
     "metadata": {},
     "output_type": "execute_result"
    }
   ],
   "source": [
    "len(active_recent) "
   ]
  },
  {
   "cell_type": "code",
   "execution_count": 14,
   "metadata": {},
   "outputs": [
    {
     "data": {
      "text/plain": [
       "numpy.int64"
      ]
     },
     "execution_count": 14,
     "metadata": {},
     "output_type": "execute_result"
    }
   ],
   "source": [
    "type(active_recent[0])"
   ]
  },
  {
   "cell_type": "code",
   "execution_count": 15,
   "metadata": {},
   "outputs": [
    {
     "data": {
      "text/plain": [
       "273222"
      ]
     },
     "execution_count": 15,
     "metadata": {},
     "output_type": "execute_result"
    }
   ],
   "source": [
    "active_set_recent = set(active_recent.index)\n",
    "len(active_set_recent)"
   ]
  },
  {
   "cell_type": "code",
   "execution_count": 16,
   "metadata": {},
   "outputs": [
    {
     "data": {
      "text/plain": [
       "495972"
      ]
     },
     "execution_count": 16,
     "metadata": {},
     "output_type": "execute_result"
    }
   ],
   "source": [
    "# Churn user set:\n",
    "churn_set = active_set - active_set_recent\n",
    "len(churn_set)"
   ]
  },
  {
   "cell_type": "code",
   "execution_count": 17,
   "metadata": {},
   "outputs": [
    {
     "data": {
      "text/plain": [
       "239225"
      ]
     },
     "execution_count": 17,
     "metadata": {},
     "output_type": "execute_result"
    }
   ],
   "source": [
    "# Loyal user set:\n",
    "loyal_set = active_set & active_set_recent\n",
    "len(loyal_set)"
   ]
  },
  {
   "cell_type": "markdown",
   "metadata": {},
   "source": [
    "### Down sample and save reduced dataframe"
   ]
  },
  {
   "cell_type": "code",
   "execution_count": 18,
   "metadata": {
    "collapsed": true
   },
   "outputs": [],
   "source": [
    "import random\n",
    "\n",
    "random.seed(42)"
   ]
  },
  {
   "cell_type": "code",
   "execution_count": 19,
   "metadata": {},
   "outputs": [
    {
     "data": {
      "text/plain": [
       "23922"
      ]
     },
     "execution_count": 19,
     "metadata": {},
     "output_type": "execute_result"
    }
   ],
   "source": [
    "loyal_sample = random.sample(loyal_set,len(loyal_set)/10)\n",
    "len(loyal_sample)"
   ]
  },
  {
   "cell_type": "code",
   "execution_count": 20,
   "metadata": {},
   "outputs": [
    {
     "data": {
      "text/plain": [
       "49597"
      ]
     },
     "execution_count": 20,
     "metadata": {},
     "output_type": "execute_result"
    }
   ],
   "source": [
    "churn_sample = random.sample(churn_set,len(churn_set)/10)\n",
    "len(churn_sample)"
   ]
  },
  {
   "cell_type": "code",
   "execution_count": 30,
   "metadata": {
    "collapsed": true
   },
   "outputs": [],
   "source": [
    "churn_sample_list = list(churn_sample)"
   ]
  },
  {
   "cell_type": "code",
   "execution_count": 31,
   "metadata": {
    "collapsed": true
   },
   "outputs": [],
   "source": [
    "loyal_sample_list = list(loyal_sample)"
   ]
  },
  {
   "cell_type": "code",
   "execution_count": 32,
   "metadata": {
    "collapsed": true
   },
   "outputs": [],
   "source": [
    "outfile = open(\"/Users/Xiaoxi/Desktop/BitTiger/Capstone/data/output/churn_sample_list.pkl\",\"w\") "
   ]
  },
  {
   "cell_type": "code",
   "execution_count": 35,
   "metadata": {},
   "outputs": [],
   "source": [
    "import numpy as np\n",
    "np.save(\"/Users/Xiaoxi/Desktop/BitTiger/Capstone/data/output/churn_sample_list\",churn_sample_list)"
   ]
  },
  {
   "cell_type": "code",
   "execution_count": 39,
   "metadata": {
    "collapsed": true
   },
   "outputs": [],
   "source": [
    "np.save(\"/Users/Xiaoxi/Desktop/BitTiger/Capstone/data/output/loyal_sample_list\",loyal_sample_list)"
   ]
  },
  {
   "cell_type": "code",
   "execution_count": null,
   "metadata": {
    "collapsed": true
   },
   "outputs": [],
   "source": []
  },
  {
   "cell_type": "code",
   "execution_count": null,
   "metadata": {
    "collapsed": true
   },
   "outputs": [],
   "source": []
  },
  {
   "cell_type": "code",
   "execution_count": null,
   "metadata": {
    "collapsed": true
   },
   "outputs": [],
   "source": []
  },
  {
   "cell_type": "code",
   "execution_count": null,
   "metadata": {
    "collapsed": true
   },
   "outputs": [],
   "source": []
  },
  {
   "cell_type": "code",
   "execution_count": null,
   "metadata": {
    "collapsed": true
   },
   "outputs": [],
   "source": []
  },
  {
   "cell_type": "code",
   "execution_count": 97,
   "metadata": {},
   "outputs": [
    {
     "ename": "KeyboardInterrupt",
     "evalue": "",
     "output_type": "error",
     "traceback": [
      "\u001b[0;31m---------------------------------------------------------------------------\u001b[0m",
      "\u001b[0;31mKeyboardInterrupt\u001b[0m                         Traceback (most recent call last)",
      "\u001b[0;32m<ipython-input-97-bd7728830af1>\u001b[0m in \u001b[0;36m<module>\u001b[0;34m()\u001b[0m\n\u001b[0;32m----> 1\u001b[0;31m \u001b[0mdf_churn\u001b[0m \u001b[0;34m=\u001b[0m \u001b[0mdf_1\u001b[0m\u001b[0;34m.\u001b[0m\u001b[0mloc\u001b[0m\u001b[0;34m[\u001b[0m\u001b[0mdf_1\u001b[0m\u001b[0;34m.\u001b[0m\u001b[0muid\u001b[0m\u001b[0;34m.\u001b[0m\u001b[0misin\u001b[0m\u001b[0;34m(\u001b[0m\u001b[0mchurn_sample\u001b[0m\u001b[0;34m)\u001b[0m\u001b[0;34m,\u001b[0m\u001b[0;34m:\u001b[0m\u001b[0;34m]\u001b[0m\u001b[0;34m\u001b[0m\u001b[0m\n\u001b[0m",
      "\u001b[0;32m/Users/Xiaoxi/anaconda2/lib/python2.7/site-packages/pandas/core/series.pyc\u001b[0m in \u001b[0;36misin\u001b[0;34m(self, values)\u001b[0m\n\u001b[1;32m   2553\u001b[0m \u001b[0;34m\u001b[0m\u001b[0m\n\u001b[1;32m   2554\u001b[0m         \"\"\"\n\u001b[0;32m-> 2555\u001b[0;31m         \u001b[0mresult\u001b[0m \u001b[0;34m=\u001b[0m \u001b[0malgorithms\u001b[0m\u001b[0;34m.\u001b[0m\u001b[0misin\u001b[0m\u001b[0;34m(\u001b[0m\u001b[0m_values_from_object\u001b[0m\u001b[0;34m(\u001b[0m\u001b[0mself\u001b[0m\u001b[0;34m)\u001b[0m\u001b[0;34m,\u001b[0m \u001b[0mvalues\u001b[0m\u001b[0;34m)\u001b[0m\u001b[0;34m\u001b[0m\u001b[0m\n\u001b[0m\u001b[1;32m   2556\u001b[0m         \u001b[0;32mreturn\u001b[0m \u001b[0mself\u001b[0m\u001b[0;34m.\u001b[0m\u001b[0m_constructor\u001b[0m\u001b[0;34m(\u001b[0m\u001b[0mresult\u001b[0m\u001b[0;34m,\u001b[0m \u001b[0mindex\u001b[0m\u001b[0;34m=\u001b[0m\u001b[0mself\u001b[0m\u001b[0;34m.\u001b[0m\u001b[0mindex\u001b[0m\u001b[0;34m)\u001b[0m\u001b[0;34m.\u001b[0m\u001b[0m__finalize__\u001b[0m\u001b[0;34m(\u001b[0m\u001b[0mself\u001b[0m\u001b[0;34m)\u001b[0m\u001b[0;34m\u001b[0m\u001b[0m\n\u001b[1;32m   2557\u001b[0m \u001b[0;34m\u001b[0m\u001b[0m\n",
      "\u001b[0;32m/Users/Xiaoxi/anaconda2/lib/python2.7/site-packages/pandas/core/algorithms.pyc\u001b[0m in \u001b[0;36misin\u001b[0;34m(comps, values)\u001b[0m\n\u001b[1;32m    424\u001b[0m             \u001b[0mcomps\u001b[0m \u001b[0;34m=\u001b[0m \u001b[0mcomps\u001b[0m\u001b[0;34m.\u001b[0m\u001b[0mastype\u001b[0m\u001b[0;34m(\u001b[0m\u001b[0mobject\u001b[0m\u001b[0;34m)\u001b[0m\u001b[0;34m\u001b[0m\u001b[0m\n\u001b[1;32m    425\u001b[0m \u001b[0;34m\u001b[0m\u001b[0m\n\u001b[0;32m--> 426\u001b[0;31m     \u001b[0;32mreturn\u001b[0m \u001b[0mf\u001b[0m\u001b[0;34m(\u001b[0m\u001b[0mcomps\u001b[0m\u001b[0;34m,\u001b[0m \u001b[0mvalues\u001b[0m\u001b[0;34m)\u001b[0m\u001b[0;34m\u001b[0m\u001b[0m\n\u001b[0m\u001b[1;32m    427\u001b[0m \u001b[0;34m\u001b[0m\u001b[0m\n\u001b[1;32m    428\u001b[0m \u001b[0;34m\u001b[0m\u001b[0m\n",
      "\u001b[0;32m/Users/Xiaoxi/anaconda2/lib/python2.7/site-packages/pandas/core/algorithms.pyc\u001b[0m in \u001b[0;36m<lambda>\u001b[0;34m(x, y)\u001b[0m\n\u001b[1;32m    404\u001b[0m     \u001b[0mf\u001b[0m \u001b[0;34m=\u001b[0m \u001b[0;32mlambda\u001b[0m \u001b[0mx\u001b[0m\u001b[0;34m,\u001b[0m \u001b[0my\u001b[0m\u001b[0;34m:\u001b[0m \u001b[0mhtable\u001b[0m\u001b[0;34m.\u001b[0m\u001b[0mismember_object\u001b[0m\u001b[0;34m(\u001b[0m\u001b[0mx\u001b[0m\u001b[0;34m,\u001b[0m \u001b[0mvalues\u001b[0m\u001b[0;34m)\u001b[0m\u001b[0;34m\u001b[0m\u001b[0m\n\u001b[1;32m    405\u001b[0m     \u001b[0;32mif\u001b[0m \u001b[0;34m(\u001b[0m\u001b[0m_np_version_under1p8\u001b[0m \u001b[0;32mand\u001b[0m \u001b[0mcompat\u001b[0m\u001b[0;34m.\u001b[0m\u001b[0mPY3\u001b[0m\u001b[0;34m)\u001b[0m \u001b[0;32mor\u001b[0m \u001b[0mlen\u001b[0m\u001b[0;34m(\u001b[0m\u001b[0mcomps\u001b[0m\u001b[0;34m)\u001b[0m \u001b[0;34m>\u001b[0m \u001b[0;36m1000000\u001b[0m\u001b[0;34m:\u001b[0m\u001b[0;34m\u001b[0m\u001b[0m\n\u001b[0;32m--> 406\u001b[0;31m         \u001b[0mf\u001b[0m \u001b[0;34m=\u001b[0m \u001b[0;32mlambda\u001b[0m \u001b[0mx\u001b[0m\u001b[0;34m,\u001b[0m \u001b[0my\u001b[0m\u001b[0;34m:\u001b[0m \u001b[0mnp\u001b[0m\u001b[0;34m.\u001b[0m\u001b[0min1d\u001b[0m\u001b[0;34m(\u001b[0m\u001b[0mx\u001b[0m\u001b[0;34m,\u001b[0m \u001b[0my\u001b[0m\u001b[0;34m)\u001b[0m\u001b[0;34m\u001b[0m\u001b[0m\n\u001b[0m\u001b[1;32m    407\u001b[0m     \u001b[0;32melif\u001b[0m \u001b[0mis_integer_dtype\u001b[0m\u001b[0;34m(\u001b[0m\u001b[0mcomps\u001b[0m\u001b[0;34m)\u001b[0m\u001b[0;34m:\u001b[0m\u001b[0;34m\u001b[0m\u001b[0m\n\u001b[1;32m    408\u001b[0m         \u001b[0;32mtry\u001b[0m\u001b[0;34m:\u001b[0m\u001b[0;34m\u001b[0m\u001b[0m\n",
      "\u001b[0;32m/Users/Xiaoxi/anaconda2/lib/python2.7/site-packages/numpy/lib/arraysetops.pyc\u001b[0m in \u001b[0;36min1d\u001b[0;34m(ar1, ar2, assume_unique, invert)\u001b[0m\n\u001b[1;32m    466\u001b[0m     \u001b[0;31m# Otherwise use sorting\u001b[0m\u001b[0;34m\u001b[0m\u001b[0;34m\u001b[0m\u001b[0m\n\u001b[1;32m    467\u001b[0m     \u001b[0;32mif\u001b[0m \u001b[0;32mnot\u001b[0m \u001b[0massume_unique\u001b[0m\u001b[0;34m:\u001b[0m\u001b[0;34m\u001b[0m\u001b[0m\n\u001b[0;32m--> 468\u001b[0;31m         \u001b[0mar1\u001b[0m\u001b[0;34m,\u001b[0m \u001b[0mrev_idx\u001b[0m \u001b[0;34m=\u001b[0m \u001b[0mnp\u001b[0m\u001b[0;34m.\u001b[0m\u001b[0munique\u001b[0m\u001b[0;34m(\u001b[0m\u001b[0mar1\u001b[0m\u001b[0;34m,\u001b[0m \u001b[0mreturn_inverse\u001b[0m\u001b[0;34m=\u001b[0m\u001b[0mTrue\u001b[0m\u001b[0;34m)\u001b[0m\u001b[0;34m\u001b[0m\u001b[0m\n\u001b[0m\u001b[1;32m    469\u001b[0m         \u001b[0mar2\u001b[0m \u001b[0;34m=\u001b[0m \u001b[0mnp\u001b[0m\u001b[0;34m.\u001b[0m\u001b[0munique\u001b[0m\u001b[0;34m(\u001b[0m\u001b[0mar2\u001b[0m\u001b[0;34m)\u001b[0m\u001b[0;34m\u001b[0m\u001b[0m\n\u001b[1;32m    470\u001b[0m \u001b[0;34m\u001b[0m\u001b[0m\n",
      "\u001b[0;32m/Users/Xiaoxi/anaconda2/lib/python2.7/site-packages/numpy/lib/arraysetops.pyc\u001b[0m in \u001b[0;36munique\u001b[0;34m(ar, return_index, return_inverse, return_counts, axis)\u001b[0m\n\u001b[1;32m    208\u001b[0m     \u001b[0mar\u001b[0m \u001b[0;34m=\u001b[0m \u001b[0mnp\u001b[0m\u001b[0;34m.\u001b[0m\u001b[0masanyarray\u001b[0m\u001b[0;34m(\u001b[0m\u001b[0mar\u001b[0m\u001b[0;34m)\u001b[0m\u001b[0;34m\u001b[0m\u001b[0m\n\u001b[1;32m    209\u001b[0m     \u001b[0;32mif\u001b[0m \u001b[0maxis\u001b[0m \u001b[0;32mis\u001b[0m \u001b[0mNone\u001b[0m\u001b[0;34m:\u001b[0m\u001b[0;34m\u001b[0m\u001b[0m\n\u001b[0;32m--> 210\u001b[0;31m         \u001b[0;32mreturn\u001b[0m \u001b[0m_unique1d\u001b[0m\u001b[0;34m(\u001b[0m\u001b[0mar\u001b[0m\u001b[0;34m,\u001b[0m \u001b[0mreturn_index\u001b[0m\u001b[0;34m,\u001b[0m \u001b[0mreturn_inverse\u001b[0m\u001b[0;34m,\u001b[0m \u001b[0mreturn_counts\u001b[0m\u001b[0;34m)\u001b[0m\u001b[0;34m\u001b[0m\u001b[0m\n\u001b[0m\u001b[1;32m    211\u001b[0m     \u001b[0;32mif\u001b[0m \u001b[0;32mnot\u001b[0m \u001b[0;34m(\u001b[0m\u001b[0;34m-\u001b[0m\u001b[0mar\u001b[0m\u001b[0;34m.\u001b[0m\u001b[0mndim\u001b[0m \u001b[0;34m<=\u001b[0m \u001b[0maxis\u001b[0m \u001b[0;34m<\u001b[0m \u001b[0mar\u001b[0m\u001b[0;34m.\u001b[0m\u001b[0mndim\u001b[0m\u001b[0;34m)\u001b[0m\u001b[0;34m:\u001b[0m\u001b[0;34m\u001b[0m\u001b[0m\n\u001b[1;32m    212\u001b[0m         \u001b[0;32mraise\u001b[0m \u001b[0mValueError\u001b[0m\u001b[0;34m(\u001b[0m\u001b[0;34m'Invalid axis kwarg specified for unique'\u001b[0m\u001b[0;34m)\u001b[0m\u001b[0;34m\u001b[0m\u001b[0m\n",
      "\u001b[0;32m/Users/Xiaoxi/anaconda2/lib/python2.7/site-packages/numpy/lib/arraysetops.pyc\u001b[0m in \u001b[0;36m_unique1d\u001b[0;34m(ar, return_index, return_inverse, return_counts)\u001b[0m\n\u001b[1;32m    272\u001b[0m \u001b[0;34m\u001b[0m\u001b[0m\n\u001b[1;32m    273\u001b[0m     \u001b[0;32mif\u001b[0m \u001b[0moptional_indices\u001b[0m\u001b[0;34m:\u001b[0m\u001b[0;34m\u001b[0m\u001b[0m\n\u001b[0;32m--> 274\u001b[0;31m         \u001b[0mperm\u001b[0m \u001b[0;34m=\u001b[0m \u001b[0mar\u001b[0m\u001b[0;34m.\u001b[0m\u001b[0margsort\u001b[0m\u001b[0;34m(\u001b[0m\u001b[0mkind\u001b[0m\u001b[0;34m=\u001b[0m\u001b[0;34m'mergesort'\u001b[0m \u001b[0;32mif\u001b[0m \u001b[0mreturn_index\u001b[0m \u001b[0;32melse\u001b[0m \u001b[0;34m'quicksort'\u001b[0m\u001b[0;34m)\u001b[0m\u001b[0;34m\u001b[0m\u001b[0m\n\u001b[0m\u001b[1;32m    275\u001b[0m         \u001b[0maux\u001b[0m \u001b[0;34m=\u001b[0m \u001b[0mar\u001b[0m\u001b[0;34m[\u001b[0m\u001b[0mperm\u001b[0m\u001b[0;34m]\u001b[0m\u001b[0;34m\u001b[0m\u001b[0m\n\u001b[1;32m    276\u001b[0m     \u001b[0;32melse\u001b[0m\u001b[0;34m:\u001b[0m\u001b[0;34m\u001b[0m\u001b[0m\n",
      "\u001b[0;31mKeyboardInterrupt\u001b[0m: "
     ]
    }
   ],
   "source": [
    "df_churn = df_1.loc[df_1.uid.isin(churn_sample),:]"
   ]
  },
  {
   "cell_type": "code",
   "execution_count": 75,
   "metadata": {},
   "outputs": [
    {
     "data": {
      "text/plain": [
       "(3289903, 3)"
      ]
     },
     "execution_count": 75,
     "metadata": {},
     "output_type": "execute_result"
    }
   ],
   "source": [
    "df_churn.shape"
   ]
  },
  {
   "cell_type": "code",
   "execution_count": 76,
   "metadata": {
    "collapsed": true
   },
   "outputs": [],
   "source": [
    "df_loyal_log = df_1.loc[df_1.uid.isin(loyal_sample),:]"
   ]
  },
  {
   "cell_type": "code",
   "execution_count": 78,
   "metadata": {},
   "outputs": [
    {
     "data": {
      "text/plain": [
       "(11388612, 3)"
      ]
     },
     "execution_count": 78,
     "metadata": {},
     "output_type": "execute_result"
    }
   ],
   "source": [
    "df_loyal_log.shape"
   ]
  },
  {
   "cell_type": "code",
   "execution_count": 80,
   "metadata": {
    "collapsed": true
   },
   "outputs": [],
   "source": [
    "df_churn.to_csv('/Users/Xiaoxi/Desktop/BitTiger/Capstone/data/output/churn_df_sample.csv',sep='\\t', encoding='utf-8')\n",
    "df_loyal_log.to_csv('/Users/Xiaoxi/Desktop/BitTiger/Capstone/data/output/loyal_df_sample.csv',sep='\\t', encoding='utf-8')"
   ]
  },
  {
   "cell_type": "markdown",
   "metadata": {},
   "source": []
  },
  {
   "cell_type": "code",
   "execution_count": 22,
   "metadata": {
    "collapsed": true
   },
   "outputs": [],
   "source": [
    "import glob"
   ]
  },
  {
   "cell_type": "code",
   "execution_count": 23,
   "metadata": {},
   "outputs": [
    {
     "data": {
      "text/plain": [
       "138"
      ]
     },
     "execution_count": 23,
     "metadata": {},
     "output_type": "execute_result"
    }
   ],
   "source": [
    "filepath = '/Volumes/SHARE/Bittiger/Capstone/data/play/*play.log'\n",
    "files = glob.glob(filepath)\n",
    "# amount of files\n",
    "len(files)"
   ]
  },
  {
   "cell_type": "code",
   "execution_count": null,
   "metadata": {
    "collapsed": true
   },
   "outputs": [],
   "source": [
    "schema = ['uid','device','song_id','song_type','song_name','singer','play_time','song_length','paid_flag','file_name','label']"
   ]
  },
  {
   "cell_type": "code",
   "execution_count": 28,
   "metadata": {
    "collapsed": true
   },
   "outputs": [],
   "source": [
    "output = open('/Users/Xiaoxi/Desktop/BitTiger/Capstone/data/output/user_sample_play.log','a')"
   ]
  },
  {
   "cell_type": "code",
   "execution_count": 29,
   "metadata": {},
   "outputs": [
    {
     "name": "stdout",
     "output_type": "stream",
     "text": [
      "processing file: 20170302_1_play.log\n"
     ]
    },
    {
     "ename": "KeyboardInterrupt",
     "evalue": "",
     "output_type": "error",
     "traceback": [
      "\u001b[0;31m---------------------------------------------------------------------------\u001b[0m",
      "\u001b[0;31mKeyboardInterrupt\u001b[0m                         Traceback (most recent call last)",
      "\u001b[0;32m<ipython-input-29-85a930bdbf3d>\u001b[0m in \u001b[0;36m<module>\u001b[0;34m()\u001b[0m\n\u001b[1;32m     11\u001b[0m         \u001b[0;32mfor\u001b[0m \u001b[0mline\u001b[0m \u001b[0;32min\u001b[0m \u001b[0mlines\u001b[0m\u001b[0;34m:\u001b[0m\u001b[0;34m\u001b[0m\u001b[0m\n\u001b[1;32m     12\u001b[0m             \u001b[0muser_id\u001b[0m \u001b[0;34m=\u001b[0m \u001b[0mline\u001b[0m\u001b[0;34m.\u001b[0m\u001b[0mstrip\u001b[0m\u001b[0;34m(\u001b[0m\u001b[0;34m'\\n'\u001b[0m\u001b[0;34m)\u001b[0m\u001b[0;34m.\u001b[0m\u001b[0msplit\u001b[0m\u001b[0;34m(\u001b[0m\u001b[0;34m'\\t'\u001b[0m\u001b[0;34m)\u001b[0m\u001b[0;34m[\u001b[0m\u001b[0;36m0\u001b[0m\u001b[0;34m]\u001b[0m\u001b[0;34m\u001b[0m\u001b[0m\n\u001b[0;32m---> 13\u001b[0;31m             \u001b[0;32mif\u001b[0m \u001b[0muser_id\u001b[0m \u001b[0;32min\u001b[0m \u001b[0mchurn_sample\u001b[0m\u001b[0;34m:\u001b[0m\u001b[0;34m\u001b[0m\u001b[0m\n\u001b[0m\u001b[1;32m     14\u001b[0m                 \u001b[0mcontents_to_wirte\u001b[0m \u001b[0;34m=\u001b[0m \u001b[0mline\u001b[0m\u001b[0;34m.\u001b[0m\u001b[0mstrip\u001b[0m\u001b[0;34m(\u001b[0m\u001b[0;34m'\\n'\u001b[0m\u001b[0;34m)\u001b[0m\u001b[0;34m.\u001b[0m\u001b[0msplit\u001b[0m\u001b[0;34m(\u001b[0m\u001b[0;34m'\\t'\u001b[0m\u001b[0;34m)\u001b[0m\u001b[0;34m\u001b[0m\u001b[0m\n\u001b[1;32m     15\u001b[0m                 \u001b[0mcontents_to_wirte\u001b[0m\u001b[0;34m.\u001b[0m\u001b[0mextend\u001b[0m\u001b[0;34m(\u001b[0m\u001b[0;34m(\u001b[0m\u001b[0mfile_name\u001b[0m\u001b[0;34m,\u001b[0m \u001b[0;34m'1'\u001b[0m\u001b[0;34m)\u001b[0m\u001b[0;34m)\u001b[0m\u001b[0;34m\u001b[0m\u001b[0m\n",
      "\u001b[0;31mKeyboardInterrupt\u001b[0m: "
     ]
    }
   ],
   "source": [
    "import time\n",
    "\n",
    "\n",
    "for the_file in files:\n",
    "    current_time = time.clock()\n",
    "\n",
    "    with open(the_file, 'r') as f:\n",
    "        lines = f.readlines()\n",
    "        file_name = f.name.split('/')[-1]\n",
    "        print('processing file: %s' % file_name)\n",
    "        for line in lines:\n",
    "            user_id = line.strip('\\n').split('\\t')[0]\n",
    "            if user_id in churn_sample:\n",
    "                contents_to_wirte = line.strip('\\n').split('\\t')\n",
    "                contents_to_wirte.extend((file_name, '1'))\n",
    "            elif user_id in loyal_sample:\n",
    "                contents_to_wirte = line.strip('\\n').split('\\t')\n",
    "                contents_to_wirte.extend((file_name, '0'))\n",
    "            else:\n",
    "                continue  \n",
    "            output.write('\\t'.join(contents_to_wirte)+'\\n')\n",
    "    print('...costs %.2f seconds' % (time.clock()-current_time))"
   ]
  },
  {
   "cell_type": "code",
   "execution_count": null,
   "metadata": {
    "collapsed": true
   },
   "outputs": [],
   "source": [
    "output.close()"
   ]
  },
  {
   "cell_type": "code",
   "execution_count": null,
   "metadata": {
    "collapsed": true
   },
   "outputs": [],
   "source": [
    "df_play = pd.read_csv('/Users/Xiaoxi/Desktop/BitTiger/Capstone/data/output/user_sample_play.log',\n",
    "                 delimiter='\\t',header=None,index_col=None,names = schema,\n",
    "                 dtype = {'uid':'str', 'song_id':'str','song_type' : 'str'})\n",
    "df_play.head()"
   ]
  },
  {
   "cell_type": "code",
   "execution_count": null,
   "metadata": {
    "collapsed": true
   },
   "outputs": [],
   "source": [
    "df_play.info()"
   ]
  }
 ],
 "metadata": {
  "kernelspec": {
   "display_name": "Python 2",
   "language": "python",
   "name": "python2"
  },
  "language_info": {
   "codemirror_mode": {
    "name": "ipython",
    "version": 2
   },
   "file_extension": ".py",
   "mimetype": "text/x-python",
   "name": "python",
   "nbconvert_exporter": "python",
   "pygments_lexer": "ipython2",
   "version": "2.7.14"
  }
 },
 "nbformat": 4,
 "nbformat_minor": 2
}
