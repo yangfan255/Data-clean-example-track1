{
 "cells": [
  {
   "cell_type": "code",
   "execution_count": 2,
   "metadata": {
    "collapsed": true
   },
   "outputs": [],
   "source": [
    "import pandas as pd\n",
    "import numpy as np\n",
    "import matplotlib.pyplot as plt\n",
    "\n",
    "%matplotlib inline"
   ]
  },
  {
   "cell_type": "code",
   "execution_count": 3,
   "metadata": {
    "collapsed": true
   },
   "outputs": [],
   "source": [
    "schema = ['uid','device','song_id','song_type','song_name','singer','play_time','song_length','paid_flag','file_name','label', 'date']"
   ]
  },
  {
   "cell_type": "code",
   "execution_count": 4,
   "metadata": {},
   "outputs": [
    {
     "name": "stderr",
     "output_type": "stream",
     "text": [
      "/Users/Xiaoxi/anaconda2/lib/python2.7/site-packages/IPython/core/interactiveshell.py:2718: DtypeWarning: Columns (8,9,12) have mixed types. Specify dtype option on import or set low_memory=False.\n",
      "  interactivity=interactivity, compiler=compiler, result=result)\n"
     ]
    }
   ],
   "source": [
    "df_play = pd.read_csv('/Users/Xiaoxi/Desktop/BitTiger/Capstone/data/output/play_sample_log.csv',\n",
    "                 delimiter='\\t',index_col=False,\n",
    "                 dtype = {'uid':'str', 'song_id':'str','song_type' : 'str'})\n"
   ]
  },
  {
   "cell_type": "code",
   "execution_count": 5,
   "metadata": {},
   "outputs": [
    {
     "data": {
      "text/html": [
       "<div>\n",
       "<style>\n",
       "    .dataframe thead tr:only-child th {\n",
       "        text-align: right;\n",
       "    }\n",
       "\n",
       "    .dataframe thead th {\n",
       "        text-align: left;\n",
       "    }\n",
       "\n",
       "    .dataframe tbody tr th {\n",
       "        vertical-align: top;\n",
       "    }\n",
       "</style>\n",
       "<table border=\"1\" class=\"dataframe\">\n",
       "  <thead>\n",
       "    <tr style=\"text-align: right;\">\n",
       "      <th></th>\n",
       "      <th>Unnamed: 0</th>\n",
       "      <th>index</th>\n",
       "      <th>uid</th>\n",
       "      <th>device</th>\n",
       "      <th>song_id</th>\n",
       "      <th>song_type</th>\n",
       "      <th>song_name</th>\n",
       "      <th>singer</th>\n",
       "      <th>play_time</th>\n",
       "      <th>song_length</th>\n",
       "      <th>paid_flag</th>\n",
       "      <th>file_name</th>\n",
       "      <th>label</th>\n",
       "      <th>date</th>\n",
       "    </tr>\n",
       "  </thead>\n",
       "  <tbody>\n",
       "    <tr>\n",
       "      <th>0</th>\n",
       "      <td>0</td>\n",
       "      <td>0</td>\n",
       "      <td>154824972</td>\n",
       "      <td>ar</td>\n",
       "      <td>3300104</td>\n",
       "      <td>0</td>\n",
       "      <td>Not A Love Song</td>\n",
       "      <td>Bean</td>\n",
       "      <td>22</td>\n",
       "      <td>178</td>\n",
       "      <td>0.0</td>\n",
       "      <td>20170302_1_play.log</td>\n",
       "      <td>1</td>\n",
       "      <td>20170302</td>\n",
       "    </tr>\n",
       "    <tr>\n",
       "      <th>1</th>\n",
       "      <td>1</td>\n",
       "      <td>1</td>\n",
       "      <td>154412619</td>\n",
       "      <td>ar</td>\n",
       "      <td>2268011</td>\n",
       "      <td>0</td>\n",
       "      <td>有一点动心</td>\n",
       "      <td>群星</td>\n",
       "      <td>235</td>\n",
       "      <td>235</td>\n",
       "      <td>0.0</td>\n",
       "      <td>20170302_1_play.log</td>\n",
       "      <td>1</td>\n",
       "      <td>20170302</td>\n",
       "    </tr>\n",
       "    <tr>\n",
       "      <th>2</th>\n",
       "      <td>2</td>\n",
       "      <td>2</td>\n",
       "      <td>154830959</td>\n",
       "      <td>ar</td>\n",
       "      <td>238895</td>\n",
       "      <td>0</td>\n",
       "      <td>自由飞翔</td>\n",
       "      <td>凤凰传奇</td>\n",
       "      <td>256</td>\n",
       "      <td>256</td>\n",
       "      <td>0.0</td>\n",
       "      <td>20170302_1_play.log</td>\n",
       "      <td>1</td>\n",
       "      <td>20170302</td>\n",
       "    </tr>\n",
       "    <tr>\n",
       "      <th>3</th>\n",
       "      <td>3</td>\n",
       "      <td>3</td>\n",
       "      <td>154826319</td>\n",
       "      <td>ar</td>\n",
       "      <td>4251791</td>\n",
       "      <td>0</td>\n",
       "      <td>爱(2010年春晚歌曲 2010春晚歌曲)</td>\n",
       "      <td>小虎队</td>\n",
       "      <td>27962</td>\n",
       "      <td>0</td>\n",
       "      <td>0.0</td>\n",
       "      <td>20170302_1_play.log</td>\n",
       "      <td>1</td>\n",
       "      <td>20170302</td>\n",
       "    </tr>\n",
       "    <tr>\n",
       "      <th>4</th>\n",
       "      <td>4</td>\n",
       "      <td>4</td>\n",
       "      <td>154470406</td>\n",
       "      <td>ar</td>\n",
       "      <td>20940997</td>\n",
       "      <td>0</td>\n",
       "      <td>向往-(电视剧《鸡毛飞上天》主题曲)</td>\n",
       "      <td>孙楠</td>\n",
       "      <td>5</td>\n",
       "      <td>247</td>\n",
       "      <td>0.0</td>\n",
       "      <td>20170302_1_play.log</td>\n",
       "      <td>1</td>\n",
       "      <td>20170302</td>\n",
       "    </tr>\n",
       "  </tbody>\n",
       "</table>\n",
       "</div>"
      ],
      "text/plain": [
       "   Unnamed: 0  index         uid device    song_id song_type  \\\n",
       "0           0      0  154824972      ar   3300104         0    \n",
       "1           1      1  154412619      ar   2268011         0    \n",
       "2           2      2  154830959      ar    238895         0    \n",
       "3           3      3  154826319      ar   4251791         0    \n",
       "4           4      4  154470406      ar  20940997         0    \n",
       "\n",
       "                song_name singer play_time song_length  paid_flag  \\\n",
       "0        Not A Love Song   Bean        22         178         0.0   \n",
       "1                  有一点动心     群星       235         235         0.0   \n",
       "2                   自由飞翔   凤凰传奇       256         256         0.0   \n",
       "3  爱(2010年春晚歌曲 2010春晚歌曲)    小虎队     27962           0         0.0   \n",
       "4     向往-(电视剧《鸡毛飞上天》主题曲)     孙楠         5         247         0.0   \n",
       "\n",
       "             file_name label      date  \n",
       "0  20170302_1_play.log     1  20170302  \n",
       "1  20170302_1_play.log     1  20170302  \n",
       "2  20170302_1_play.log     1  20170302  \n",
       "3  20170302_1_play.log     1  20170302  \n",
       "4  20170302_1_play.log     1  20170302  "
      ]
     },
     "execution_count": 5,
     "metadata": {},
     "output_type": "execute_result"
    }
   ],
   "source": [
    "df_play.head()"
   ]
  },
  {
   "cell_type": "code",
   "execution_count": 6,
   "metadata": {},
   "outputs": [
    {
     "data": {
      "text/html": [
       "<div>\n",
       "<style>\n",
       "    .dataframe thead tr:only-child th {\n",
       "        text-align: right;\n",
       "    }\n",
       "\n",
       "    .dataframe thead th {\n",
       "        text-align: left;\n",
       "    }\n",
       "\n",
       "    .dataframe tbody tr th {\n",
       "        vertical-align: top;\n",
       "    }\n",
       "</style>\n",
       "<table border=\"1\" class=\"dataframe\">\n",
       "  <thead>\n",
       "    <tr style=\"text-align: right;\">\n",
       "      <th></th>\n",
       "      <th>index</th>\n",
       "      <th>uid</th>\n",
       "      <th>device</th>\n",
       "      <th>song_id</th>\n",
       "      <th>song_type</th>\n",
       "      <th>song_name</th>\n",
       "      <th>singer</th>\n",
       "      <th>play_time</th>\n",
       "      <th>song_length</th>\n",
       "      <th>paid_flag</th>\n",
       "      <th>file_name</th>\n",
       "      <th>label</th>\n",
       "      <th>date</th>\n",
       "    </tr>\n",
       "  </thead>\n",
       "  <tbody>\n",
       "    <tr>\n",
       "      <th>0</th>\n",
       "      <td>0</td>\n",
       "      <td>154824972</td>\n",
       "      <td>ar</td>\n",
       "      <td>3300104</td>\n",
       "      <td>0</td>\n",
       "      <td>Not A Love Song</td>\n",
       "      <td>Bean</td>\n",
       "      <td>22</td>\n",
       "      <td>178</td>\n",
       "      <td>0.0</td>\n",
       "      <td>20170302_1_play.log</td>\n",
       "      <td>1</td>\n",
       "      <td>20170302</td>\n",
       "    </tr>\n",
       "    <tr>\n",
       "      <th>1</th>\n",
       "      <td>1</td>\n",
       "      <td>154412619</td>\n",
       "      <td>ar</td>\n",
       "      <td>2268011</td>\n",
       "      <td>0</td>\n",
       "      <td>有一点动心</td>\n",
       "      <td>群星</td>\n",
       "      <td>235</td>\n",
       "      <td>235</td>\n",
       "      <td>0.0</td>\n",
       "      <td>20170302_1_play.log</td>\n",
       "      <td>1</td>\n",
       "      <td>20170302</td>\n",
       "    </tr>\n",
       "    <tr>\n",
       "      <th>2</th>\n",
       "      <td>2</td>\n",
       "      <td>154830959</td>\n",
       "      <td>ar</td>\n",
       "      <td>238895</td>\n",
       "      <td>0</td>\n",
       "      <td>自由飞翔</td>\n",
       "      <td>凤凰传奇</td>\n",
       "      <td>256</td>\n",
       "      <td>256</td>\n",
       "      <td>0.0</td>\n",
       "      <td>20170302_1_play.log</td>\n",
       "      <td>1</td>\n",
       "      <td>20170302</td>\n",
       "    </tr>\n",
       "    <tr>\n",
       "      <th>3</th>\n",
       "      <td>3</td>\n",
       "      <td>154826319</td>\n",
       "      <td>ar</td>\n",
       "      <td>4251791</td>\n",
       "      <td>0</td>\n",
       "      <td>爱(2010年春晚歌曲 2010春晚歌曲)</td>\n",
       "      <td>小虎队</td>\n",
       "      <td>27962</td>\n",
       "      <td>0</td>\n",
       "      <td>0.0</td>\n",
       "      <td>20170302_1_play.log</td>\n",
       "      <td>1</td>\n",
       "      <td>20170302</td>\n",
       "    </tr>\n",
       "    <tr>\n",
       "      <th>4</th>\n",
       "      <td>4</td>\n",
       "      <td>154470406</td>\n",
       "      <td>ar</td>\n",
       "      <td>20940997</td>\n",
       "      <td>0</td>\n",
       "      <td>向往-(电视剧《鸡毛飞上天》主题曲)</td>\n",
       "      <td>孙楠</td>\n",
       "      <td>5</td>\n",
       "      <td>247</td>\n",
       "      <td>0.0</td>\n",
       "      <td>20170302_1_play.log</td>\n",
       "      <td>1</td>\n",
       "      <td>20170302</td>\n",
       "    </tr>\n",
       "  </tbody>\n",
       "</table>\n",
       "</div>"
      ],
      "text/plain": [
       "   index         uid device    song_id song_type               song_name  \\\n",
       "0      0  154824972      ar   3300104         0         Not A Love Song    \n",
       "1      1  154412619      ar   2268011         0                   有一点动心    \n",
       "2      2  154830959      ar    238895         0                    自由飞翔    \n",
       "3      3  154826319      ar   4251791         0   爱(2010年春晚歌曲 2010春晚歌曲)    \n",
       "4      4  154470406      ar  20940997         0      向往-(电视剧《鸡毛飞上天》主题曲)    \n",
       "\n",
       "  singer play_time song_length  paid_flag            file_name label      date  \n",
       "0  Bean        22         178         0.0  20170302_1_play.log     1  20170302  \n",
       "1    群星       235         235         0.0  20170302_1_play.log     1  20170302  \n",
       "2  凤凰传奇       256         256         0.0  20170302_1_play.log     1  20170302  \n",
       "3   小虎队     27962           0         0.0  20170302_1_play.log     1  20170302  \n",
       "4    孙楠         5         247         0.0  20170302_1_play.log     1  20170302  "
      ]
     },
     "execution_count": 6,
     "metadata": {},
     "output_type": "execute_result"
    }
   ],
   "source": [
    "df_play = df_play.drop(df_play.columns[0], axis=1)\n",
    "df_play.head()"
   ]
  },
  {
   "cell_type": "code",
   "execution_count": 7,
   "metadata": {},
   "outputs": [
    {
     "data": {
      "text/plain": [
       "index              0\n",
       "uid                0\n",
       "device             0\n",
       "song_id            0\n",
       "song_type          0\n",
       "song_name         58\n",
       "singer         18968\n",
       "play_time          0\n",
       "song_length        0\n",
       "paid_flag          0\n",
       "file_name          0\n",
       "label              0\n",
       "date               0\n",
       "dtype: int64"
      ]
     },
     "execution_count": 7,
     "metadata": {},
     "output_type": "execute_result"
    }
   ],
   "source": [
    "df_play.isnull().sum(axis = 0)"
   ]
  },
  {
   "cell_type": "markdown",
   "metadata": {},
   "source": [
    "### 1. file_name and paid_flag\n",
    "First drop file_name and paid_flag columns. \n",
    "\n",
    "(a) there is a column 'date' contains log date information <br>\n",
    "(b) In data cleaning file, we noticed there is no real paid users so this columns can be dropped"
   ]
  },
  {
   "cell_type": "code",
   "execution_count": null,
   "metadata": {},
   "outputs": [],
   "source": [
    "df_play = df_play.drop(['paid_flag', 'file_name'], axis=1)"
   ]
  },
  {
   "cell_type": "code",
   "execution_count": 11,
   "metadata": {},
   "outputs": [
    {
     "data": {
      "text/html": [
       "<div>\n",
       "<style>\n",
       "    .dataframe thead tr:only-child th {\n",
       "        text-align: right;\n",
       "    }\n",
       "\n",
       "    .dataframe thead th {\n",
       "        text-align: left;\n",
       "    }\n",
       "\n",
       "    .dataframe tbody tr th {\n",
       "        vertical-align: top;\n",
       "    }\n",
       "</style>\n",
       "<table border=\"1\" class=\"dataframe\">\n",
       "  <thead>\n",
       "    <tr style=\"text-align: right;\">\n",
       "      <th></th>\n",
       "      <th>index</th>\n",
       "      <th>uid</th>\n",
       "      <th>device</th>\n",
       "      <th>song_id</th>\n",
       "      <th>song_type</th>\n",
       "      <th>song_name</th>\n",
       "      <th>singer</th>\n",
       "      <th>play_time</th>\n",
       "      <th>song_length</th>\n",
       "      <th>label</th>\n",
       "      <th>date</th>\n",
       "    </tr>\n",
       "  </thead>\n",
       "  <tbody>\n",
       "    <tr>\n",
       "      <th>0</th>\n",
       "      <td>0</td>\n",
       "      <td>154824972</td>\n",
       "      <td>ar</td>\n",
       "      <td>3300104</td>\n",
       "      <td>0</td>\n",
       "      <td>Not A Love Song</td>\n",
       "      <td>Bean</td>\n",
       "      <td>22</td>\n",
       "      <td>178</td>\n",
       "      <td>1</td>\n",
       "      <td>20170302</td>\n",
       "    </tr>\n",
       "    <tr>\n",
       "      <th>1</th>\n",
       "      <td>1</td>\n",
       "      <td>154412619</td>\n",
       "      <td>ar</td>\n",
       "      <td>2268011</td>\n",
       "      <td>0</td>\n",
       "      <td>有一点动心</td>\n",
       "      <td>群星</td>\n",
       "      <td>235</td>\n",
       "      <td>235</td>\n",
       "      <td>1</td>\n",
       "      <td>20170302</td>\n",
       "    </tr>\n",
       "    <tr>\n",
       "      <th>2</th>\n",
       "      <td>2</td>\n",
       "      <td>154830959</td>\n",
       "      <td>ar</td>\n",
       "      <td>238895</td>\n",
       "      <td>0</td>\n",
       "      <td>自由飞翔</td>\n",
       "      <td>凤凰传奇</td>\n",
       "      <td>256</td>\n",
       "      <td>256</td>\n",
       "      <td>1</td>\n",
       "      <td>20170302</td>\n",
       "    </tr>\n",
       "    <tr>\n",
       "      <th>3</th>\n",
       "      <td>3</td>\n",
       "      <td>154826319</td>\n",
       "      <td>ar</td>\n",
       "      <td>4251791</td>\n",
       "      <td>0</td>\n",
       "      <td>爱(2010年春晚歌曲 2010春晚歌曲)</td>\n",
       "      <td>小虎队</td>\n",
       "      <td>27962</td>\n",
       "      <td>0</td>\n",
       "      <td>1</td>\n",
       "      <td>20170302</td>\n",
       "    </tr>\n",
       "    <tr>\n",
       "      <th>4</th>\n",
       "      <td>4</td>\n",
       "      <td>154470406</td>\n",
       "      <td>ar</td>\n",
       "      <td>20940997</td>\n",
       "      <td>0</td>\n",
       "      <td>向往-(电视剧《鸡毛飞上天》主题曲)</td>\n",
       "      <td>孙楠</td>\n",
       "      <td>5</td>\n",
       "      <td>247</td>\n",
       "      <td>1</td>\n",
       "      <td>20170302</td>\n",
       "    </tr>\n",
       "  </tbody>\n",
       "</table>\n",
       "</div>"
      ],
      "text/plain": [
       "   index         uid device    song_id song_type               song_name  \\\n",
       "0      0  154824972      ar   3300104         0         Not A Love Song    \n",
       "1      1  154412619      ar   2268011         0                   有一点动心    \n",
       "2      2  154830959      ar    238895         0                    自由飞翔    \n",
       "3      3  154826319      ar   4251791         0   爱(2010年春晚歌曲 2010春晚歌曲)    \n",
       "4      4  154470406      ar  20940997         0      向往-(电视剧《鸡毛飞上天》主题曲)    \n",
       "\n",
       "  singer play_time song_length label      date  \n",
       "0  Bean        22         178      1  20170302  \n",
       "1    群星       235         235      1  20170302  \n",
       "2  凤凰传奇       256         256      1  20170302  \n",
       "3   小虎队     27962           0      1  20170302  \n",
       "4    孙楠         5         247      1  20170302  "
      ]
     },
     "execution_count": 11,
     "metadata": {},
     "output_type": "execute_result"
    }
   ],
   "source": [
    "df_play.head()"
   ]
  },
  {
   "cell_type": "code",
   "execution_count": 12,
   "metadata": {},
   "outputs": [
    {
     "name": "stdout",
     "output_type": "stream",
     "text": [
      "<class 'pandas.core.frame.DataFrame'>\n",
      "RangeIndex: 19136525 entries, 0 to 19136524\n",
      "Data columns (total 11 columns):\n",
      "index          int64\n",
      "uid            object\n",
      "device         object\n",
      "song_id        object\n",
      "song_type      object\n",
      "song_name      object\n",
      "singer         object\n",
      "play_time      object\n",
      "song_length    object\n",
      "label          object\n",
      "date           int64\n",
      "dtypes: int64(2), object(9)\n",
      "memory usage: 1.6+ GB\n"
     ]
    }
   ],
   "source": [
    "df_play.info()"
   ]
  },
  {
   "cell_type": "markdown",
   "metadata": {
    "collapsed": true
   },
   "source": [
    "### 2. uid"
   ]
  },
  {
   "cell_type": "code",
   "execution_count": 13,
   "metadata": {},
   "outputs": [
    {
     "data": {
      "text/plain": [
       "751824        4384959\n",
       "1685126        632794\n",
       "46532274       487545\n",
       "1679121        479852\n",
       "155948236      216315\n",
       "16517426        72966\n",
       "398309          56785\n",
       "168922214       46943\n",
       "69546515        28998\n",
       "167671961       20769\n",
       "168884001       16927\n",
       "168754908       12489\n",
       "167677847       11860\n",
       "167569705       10691\n",
       "168533031       10379\n",
       "168904151       10303\n",
       "168654194       10089\n",
       "168976529        9040\n",
       "168510160        8956\n",
       "154834096        8664\n",
       "168542503        8599\n",
       "167804677        8330\n",
       "168788690        7766\n",
       "167481248        7526\n",
       "168960306        7417\n",
       "168772034        7263\n",
       "65116455         7048\n",
       "167958871        7019\n",
       "168507580        7008\n",
       "168600735        6924\n",
       "               ...   \n",
       "154542867           3\n",
       "167575884           3\n",
       "168562477           3\n",
       "168852750           3\n",
       "168946211           3\n",
       "168823773           3\n",
       "154543518           3\n",
       "168152650           3\n",
       "154587683           3\n",
       "168451976           3\n",
       "168875393           3\n",
       "154482545           3\n",
       "154738854           3\n",
       "167612367           3\n",
       "168871956           3\n",
       "168766711           3\n",
       "168969540           3\n",
       "154549864           3\n",
       "167680975           3\n",
       "168525000           3\n",
       "168807352           3\n",
       "154676449           3\n",
       "155297501           3\n",
       "166882838           2\n",
       "168830779           2\n",
       "168880706           2\n",
       "168896456           2\n",
       "168762311           2\n",
       "169206390           1\n",
       "154675124           1\n",
       "Name: uid, Length: 73511, dtype: int64"
      ]
     },
     "execution_count": 13,
     "metadata": {},
     "output_type": "execute_result"
    }
   ],
   "source": [
    "df_play.uid.value_counts()"
   ]
  },
  {
   "cell_type": "markdown",
   "metadata": {},
   "source": [
    "#### There are some users have way more than usual number of logs.\n",
    "#### Say one log takes one min, there are 24*60 = 1440 mins per day. Thoes uses have more than 1440 logs per date should be robots.\n"
   ]
  },
  {
   "cell_type": "code",
   "execution_count": 14,
   "metadata": {},
   "outputs": [],
   "source": [
    "res = df_play[['uid','date','song_id']].groupby(['uid','date']).count().rename(columns={'song_id': 'count'})"
   ]
  },
  {
   "cell_type": "code",
   "execution_count": 15,
   "metadata": {},
   "outputs": [
    {
     "data": {
      "text/html": [
       "<div>\n",
       "<style>\n",
       "    .dataframe thead tr:only-child th {\n",
       "        text-align: right;\n",
       "    }\n",
       "\n",
       "    .dataframe thead th {\n",
       "        text-align: left;\n",
       "    }\n",
       "\n",
       "    .dataframe tbody tr th {\n",
       "        vertical-align: top;\n",
       "    }\n",
       "</style>\n",
       "<table border=\"1\" class=\"dataframe\">\n",
       "  <thead>\n",
       "    <tr style=\"text-align: right;\">\n",
       "      <th></th>\n",
       "      <th></th>\n",
       "      <th>count</th>\n",
       "    </tr>\n",
       "    <tr>\n",
       "      <th>uid</th>\n",
       "      <th>date</th>\n",
       "      <th></th>\n",
       "    </tr>\n",
       "  </thead>\n",
       "  <tbody>\n",
       "    <tr>\n",
       "      <th>100077577</th>\n",
       "      <th>20170331</th>\n",
       "      <td>17</td>\n",
       "    </tr>\n",
       "    <tr>\n",
       "      <th rowspan=\"9\" valign=\"top\">100419770</th>\n",
       "      <th>20170331</th>\n",
       "      <td>1</td>\n",
       "    </tr>\n",
       "    <tr>\n",
       "      <th>20170401</th>\n",
       "      <td>14</td>\n",
       "    </tr>\n",
       "    <tr>\n",
       "      <th>20170402</th>\n",
       "      <td>23</td>\n",
       "    </tr>\n",
       "    <tr>\n",
       "      <th>20170405</th>\n",
       "      <td>2</td>\n",
       "    </tr>\n",
       "    <tr>\n",
       "      <th>20170406</th>\n",
       "      <td>2</td>\n",
       "    </tr>\n",
       "    <tr>\n",
       "      <th>20170407</th>\n",
       "      <td>4</td>\n",
       "    </tr>\n",
       "    <tr>\n",
       "      <th>20170408</th>\n",
       "      <td>7</td>\n",
       "    </tr>\n",
       "    <tr>\n",
       "      <th>20170430</th>\n",
       "      <td>5</td>\n",
       "    </tr>\n",
       "    <tr>\n",
       "      <th>20170501</th>\n",
       "      <td>42</td>\n",
       "    </tr>\n",
       "    <tr>\n",
       "      <th>100474444</th>\n",
       "      <th>20170339</th>\n",
       "      <td>69</td>\n",
       "    </tr>\n",
       "    <tr>\n",
       "      <th rowspan=\"3\" valign=\"top\">100751531</th>\n",
       "      <th>20170301</th>\n",
       "      <td>16</td>\n",
       "    </tr>\n",
       "    <tr>\n",
       "      <th>20170303</th>\n",
       "      <td>3</td>\n",
       "    </tr>\n",
       "    <tr>\n",
       "      <th>20170304</th>\n",
       "      <td>7</td>\n",
       "    </tr>\n",
       "    <tr>\n",
       "      <th rowspan=\"6\" valign=\"top\">101231687</th>\n",
       "      <th>20170330</th>\n",
       "      <td>105</td>\n",
       "    </tr>\n",
       "    <tr>\n",
       "      <th>20170331</th>\n",
       "      <td>36</td>\n",
       "    </tr>\n",
       "    <tr>\n",
       "      <th>20170401</th>\n",
       "      <td>36</td>\n",
       "    </tr>\n",
       "    <tr>\n",
       "      <th>20170404</th>\n",
       "      <td>1</td>\n",
       "    </tr>\n",
       "    <tr>\n",
       "      <th>20170405</th>\n",
       "      <td>159</td>\n",
       "    </tr>\n",
       "    <tr>\n",
       "      <th>20170406</th>\n",
       "      <td>159</td>\n",
       "    </tr>\n",
       "  </tbody>\n",
       "</table>\n",
       "</div>"
      ],
      "text/plain": [
       "                     count\n",
       "uid        date           \n",
       "100077577  20170331     17\n",
       "100419770  20170331      1\n",
       "           20170401     14\n",
       "           20170402     23\n",
       "           20170405      2\n",
       "           20170406      2\n",
       "           20170407      4\n",
       "           20170408      7\n",
       "           20170430      5\n",
       "           20170501     42\n",
       "100474444  20170339     69\n",
       "100751531  20170301     16\n",
       "           20170303      3\n",
       "           20170304      7\n",
       "101231687  20170330    105\n",
       "           20170331     36\n",
       "           20170401     36\n",
       "           20170404      1\n",
       "           20170405    159\n",
       "           20170406    159"
      ]
     },
     "execution_count": 15,
     "metadata": {},
     "output_type": "execute_result"
    }
   ],
   "source": [
    "res.head(20)"
   ]
  },
  {
   "cell_type": "code",
   "execution_count": 16,
   "metadata": {},
   "outputs": [],
   "source": [
    "res_agg = res.groupby('uid')['count'].agg(['sum','count'])"
   ]
  },
  {
   "cell_type": "code",
   "execution_count": 17,
   "metadata": {},
   "outputs": [
    {
     "data": {
      "text/html": [
       "<div>\n",
       "<style>\n",
       "    .dataframe thead tr:only-child th {\n",
       "        text-align: right;\n",
       "    }\n",
       "\n",
       "    .dataframe thead th {\n",
       "        text-align: left;\n",
       "    }\n",
       "\n",
       "    .dataframe tbody tr th {\n",
       "        vertical-align: top;\n",
       "    }\n",
       "</style>\n",
       "<table border=\"1\" class=\"dataframe\">\n",
       "  <thead>\n",
       "    <tr style=\"text-align: right;\">\n",
       "      <th></th>\n",
       "      <th>sum</th>\n",
       "      <th>count</th>\n",
       "    </tr>\n",
       "    <tr>\n",
       "      <th>uid</th>\n",
       "      <th></th>\n",
       "      <th></th>\n",
       "    </tr>\n",
       "  </thead>\n",
       "  <tbody>\n",
       "    <tr>\n",
       "      <th>100077577</th>\n",
       "      <td>17</td>\n",
       "      <td>1</td>\n",
       "    </tr>\n",
       "    <tr>\n",
       "      <th>100419770</th>\n",
       "      <td>100</td>\n",
       "      <td>9</td>\n",
       "    </tr>\n",
       "    <tr>\n",
       "      <th>100474444</th>\n",
       "      <td>69</td>\n",
       "      <td>1</td>\n",
       "    </tr>\n",
       "    <tr>\n",
       "      <th>100751531</th>\n",
       "      <td>26</td>\n",
       "      <td>3</td>\n",
       "    </tr>\n",
       "    <tr>\n",
       "      <th>101231687</th>\n",
       "      <td>1007</td>\n",
       "      <td>22</td>\n",
       "    </tr>\n",
       "  </tbody>\n",
       "</table>\n",
       "</div>"
      ],
      "text/plain": [
       "             sum  count\n",
       "uid                    \n",
       "100077577     17      1\n",
       "100419770    100      9\n",
       "100474444     69      1\n",
       "100751531     26      3\n",
       "101231687   1007     22"
      ]
     },
     "execution_count": 17,
     "metadata": {},
     "output_type": "execute_result"
    }
   ],
   "source": [
    "res_agg.head()"
   ]
  },
  {
   "cell_type": "code",
   "execution_count": 18,
   "metadata": {},
   "outputs": [],
   "source": [
    "res_agg['avg_logs'] = res_agg['sum']/res_agg['count']"
   ]
  },
  {
   "cell_type": "code",
   "execution_count": 19,
   "metadata": {},
   "outputs": [
    {
     "data": {
      "text/html": [
       "<div>\n",
       "<style>\n",
       "    .dataframe thead tr:only-child th {\n",
       "        text-align: right;\n",
       "    }\n",
       "\n",
       "    .dataframe thead th {\n",
       "        text-align: left;\n",
       "    }\n",
       "\n",
       "    .dataframe tbody tr th {\n",
       "        vertical-align: top;\n",
       "    }\n",
       "</style>\n",
       "<table border=\"1\" class=\"dataframe\">\n",
       "  <thead>\n",
       "    <tr style=\"text-align: right;\">\n",
       "      <th></th>\n",
       "      <th>sum</th>\n",
       "      <th>count</th>\n",
       "      <th>avg_logs</th>\n",
       "    </tr>\n",
       "    <tr>\n",
       "      <th>uid</th>\n",
       "      <th></th>\n",
       "      <th></th>\n",
       "      <th></th>\n",
       "    </tr>\n",
       "  </thead>\n",
       "  <tbody>\n",
       "    <tr>\n",
       "      <th>100077577</th>\n",
       "      <td>17</td>\n",
       "      <td>1</td>\n",
       "      <td>17.000000</td>\n",
       "    </tr>\n",
       "    <tr>\n",
       "      <th>100419770</th>\n",
       "      <td>100</td>\n",
       "      <td>9</td>\n",
       "      <td>11.111111</td>\n",
       "    </tr>\n",
       "    <tr>\n",
       "      <th>100474444</th>\n",
       "      <td>69</td>\n",
       "      <td>1</td>\n",
       "      <td>69.000000</td>\n",
       "    </tr>\n",
       "    <tr>\n",
       "      <th>100751531</th>\n",
       "      <td>26</td>\n",
       "      <td>3</td>\n",
       "      <td>8.666667</td>\n",
       "    </tr>\n",
       "    <tr>\n",
       "      <th>101231687</th>\n",
       "      <td>1007</td>\n",
       "      <td>22</td>\n",
       "      <td>45.772727</td>\n",
       "    </tr>\n",
       "  </tbody>\n",
       "</table>\n",
       "</div>"
      ],
      "text/plain": [
       "             sum  count   avg_logs\n",
       "uid                               \n",
       "100077577     17      1  17.000000\n",
       "100419770    100      9  11.111111\n",
       "100474444     69      1  69.000000\n",
       "100751531     26      3   8.666667\n",
       "101231687   1007     22  45.772727"
      ]
     },
     "execution_count": 19,
     "metadata": {},
     "output_type": "execute_result"
    }
   ],
   "source": [
    "res_agg.head()"
   ]
  },
  {
   "cell_type": "code",
   "execution_count": 20,
   "metadata": {},
   "outputs": [],
   "source": [
    "uid_robot = res_agg[res_agg['avg_logs'] > 1440].index"
   ]
  },
  {
   "cell_type": "code",
   "execution_count": 21,
   "metadata": {},
   "outputs": [
    {
     "data": {
      "text/plain": [
       "Index([u'121030149', u'155948236', u'16517426', u'1679121', u'1685126 ',\n",
       "       u'398309 ', u'46532274', u'751824'],\n",
       "      dtype='object', name=u'uid')"
      ]
     },
     "execution_count": 21,
     "metadata": {},
     "output_type": "execute_result"
    }
   ],
   "source": [
    "uid_robot"
   ]
  },
  {
   "cell_type": "code",
   "execution_count": 22,
   "metadata": {
    "collapsed": true
   },
   "outputs": [],
   "source": [
    "uid_robot = set(uid_robot)"
   ]
  },
  {
   "cell_type": "code",
   "execution_count": 23,
   "metadata": {},
   "outputs": [
    {
     "data": {
      "text/plain": [
       "{'121030149',\n",
       " '155948236',\n",
       " '16517426',\n",
       " '1679121',\n",
       " '1685126 ',\n",
       " '398309 ',\n",
       " '46532274',\n",
       " '751824'}"
      ]
     },
     "execution_count": 23,
     "metadata": {},
     "output_type": "execute_result"
    }
   ],
   "source": [
    "uid_robot"
   ]
  },
  {
   "cell_type": "code",
   "execution_count": 24,
   "metadata": {},
   "outputs": [],
   "source": [
    "# Remove those suspecious robot users\n",
    "df_play = df_play[~df_play['uid'].isin(uid_robot)]"
   ]
  },
  {
   "cell_type": "code",
   "execution_count": 25,
   "metadata": {},
   "outputs": [
    {
     "data": {
      "text/plain": [
       "(12800698, 11)"
      ]
     },
     "execution_count": 25,
     "metadata": {},
     "output_type": "execute_result"
    }
   ],
   "source": [
    "df_play.shape"
   ]
  },
  {
   "cell_type": "code",
   "execution_count": 26,
   "metadata": {
    "collapsed": true
   },
   "outputs": [],
   "source": [
    "del res, res_agg"
   ]
  },
  {
   "cell_type": "markdown",
   "metadata": {},
   "source": [
    "### 3. Device type was already taken care in data cleansing step."
   ]
  },
  {
   "cell_type": "code",
   "execution_count": 27,
   "metadata": {},
   "outputs": [
    {
     "data": {
      "text/plain": [
       "ar    10588042\n",
       "ip     2212656\n",
       "Name: device, dtype: int64"
      ]
     },
     "execution_count": 27,
     "metadata": {},
     "output_type": "execute_result"
    }
   ],
   "source": [
    "df_play.device.value_counts()"
   ]
  },
  {
   "cell_type": "markdown",
   "metadata": {},
   "source": [
    "### 4. Date"
   ]
  },
  {
   "cell_type": "code",
   "execution_count": 28,
   "metadata": {
    "scrolled": true
   },
   "outputs": [
    {
     "data": {
      "text/plain": [
       "date\n",
       "0              164\n",
       "168              5\n",
       "169              1\n",
       "238              2\n",
       "260              5\n",
       "20170301    320529\n",
       "20170302    243506\n",
       "20170303    168531\n",
       "20170304    146172\n",
       "20170305    141878\n",
       "20170306    116696\n",
       "20170307    114100\n",
       "20170308    114714\n",
       "20170309     99805\n",
       "20170330    453852\n",
       "20170331    623104\n",
       "20170339    192206\n",
       "20170401    496435\n",
       "20170402    453141\n",
       "20170403    258154\n",
       "20170404    384626\n",
       "20170405    320906\n",
       "20170406    323728\n",
       "20170407    325841\n",
       "20170408    324054\n",
       "20170409    308806\n",
       "20170410    279484\n",
       "20170411    178933\n",
       "20170412    267814\n",
       "20170413    268438\n",
       "20170414    174616\n",
       "20170415    264812\n",
       "20170416    260261\n",
       "20170417    236136\n",
       "20170418    231947\n",
       "20170419    230872\n",
       "20170420    220441\n",
       "20170421    226041\n",
       "20170422    230183\n",
       "20170423    231059\n",
       "20170424    112321\n",
       "20170425    214152\n",
       "20170426    201190\n",
       "20170427    222649\n",
       "20170428    204768\n",
       "20170429    214888\n",
       "20170430    203552\n",
       "20170501    197646\n",
       "20170502    181210\n",
       "20170503    181939\n",
       "20170504    180844\n",
       "20170505    181151\n",
       "20170506    190329\n",
       "20170507    189405\n",
       "20170508    177387\n",
       "20170509    174556\n",
       "20170510    181381\n",
       "20170511    182806\n",
       "20170512    176526\n",
       "dtype: int64"
      ]
     },
     "execution_count": 28,
     "metadata": {},
     "output_type": "execute_result"
    }
   ],
   "source": [
    "df_play.groupby('date').size()"
   ]
  },
  {
   "cell_type": "markdown",
   "metadata": {},
   "source": [
    "#### Convert date to string and remove the three outlier: 0, 168, 169, 238, 260"
   ]
  },
  {
   "cell_type": "code",
   "execution_count": 29,
   "metadata": {},
   "outputs": [],
   "source": [
    "filter_date = set([0, 168, 169, 238, 260])"
   ]
  },
  {
   "cell_type": "code",
   "execution_count": 30,
   "metadata": {},
   "outputs": [],
   "source": [
    "df_play = df_play[~df_play['date'].isin(filter_date)]"
   ]
  },
  {
   "cell_type": "code",
   "execution_count": 31,
   "metadata": {},
   "outputs": [],
   "source": [
    "df_play['date'] = df_play['date'].astype('string')"
   ]
  },
  {
   "cell_type": "code",
   "execution_count": 32,
   "metadata": {},
   "outputs": [
    {
     "name": "stdout",
     "output_type": "stream",
     "text": [
      "<class 'pandas.core.frame.DataFrame'>\n",
      "Int64Index: 12800521 entries, 0 to 19136524\n",
      "Data columns (total 1 columns):\n",
      "date    object\n",
      "dtypes: object(1)\n",
      "memory usage: 195.3+ MB\n"
     ]
    }
   ],
   "source": [
    "df_play[['date']].info()"
   ]
  },
  {
   "cell_type": "code",
   "execution_count": 33,
   "metadata": {},
   "outputs": [
    {
     "data": {
      "text/plain": [
       "date      label\n",
       "20170301  1.0      106581\n",
       "          1        136627\n",
       "          1.0       77321\n",
       "20170302  1.0      191657\n",
       "          1         51842\n",
       "          1.0           7\n",
       "20170303  1.0       76045\n",
       "          1         92192\n",
       "          1.0         294\n",
       "20170304  1.0       63277\n",
       "          1         82895\n",
       "20170305  1.0       42927\n",
       "          1         98731\n",
       "          1.0         220\n",
       "20170306  1.0       83721\n",
       "          1         32523\n",
       "          1.0         452\n",
       "20170307  1.0       77547\n",
       "          1         36155\n",
       "          1.0         398\n",
       "20170308  1.0       71403\n",
       "          1         42728\n",
       "          1.0         583\n",
       "20170309  1.0       59967\n",
       "          1         39251\n",
       "          1.0         587\n",
       "20170330  0.0      181384\n",
       "          1.0      213505\n",
       "          0         26511\n",
       "          0.0         546\n",
       "                    ...  \n",
       "20170430  0.0        5042\n",
       "20170501  0.0      103673\n",
       "          0         89124\n",
       "          0.0        4849\n",
       "20170502  0.0      161387\n",
       "          0         18513\n",
       "          0.0        1310\n",
       "20170503  0.0       69468\n",
       "          0        112471\n",
       "20170504  0.0       63316\n",
       "          0        116149\n",
       "          0.0        1379\n",
       "20170505  0.0      141766\n",
       "          0         39385\n",
       "20170506  0.0      190329\n",
       "20170507  0.0      189405\n",
       "20170508  0.0      137067\n",
       "          0         29946\n",
       "          0.0       10374\n",
       "20170509  0.0      137519\n",
       "          0         37037\n",
       "20170510  0.0       57749\n",
       "          0         81298\n",
       "          0.0       42334\n",
       "20170511  0.0      104129\n",
       "          0         55639\n",
       "          0.0       23038\n",
       "20170512  0.0      133611\n",
       "          0         22392\n",
       "          0.0       20523\n",
       "Length: 206, dtype: int64"
      ]
     },
     "execution_count": 33,
     "metadata": {},
     "output_type": "execute_result"
    }
   ],
   "source": [
    "# Check the churn rate for different date\n",
    "df_play.groupby(['date','label']).size()"
   ]
  },
  {
   "cell_type": "markdown",
   "metadata": {},
   "source": [
    "#### 5. Song type"
   ]
  },
  {
   "cell_type": "code",
   "execution_count": 34,
   "metadata": {},
   "outputs": [
    {
     "data": {
      "text/plain": [
       "array(['0 ', '1 ', ' ', '2 ', '(112.12.48.11)TM ', '0(117.148.119.127)TM ',\n",
       "       '(180.95.144.116)TM ', '(117.149.49.128)TM ',\n",
       "       '(220.248.200.131)TM ', '0(183.166.120.65)TM ',\n",
       "       '0(111.19.79.220)TM ', '(117.148.119.127)TM ', '(117.148.81.95)TM ',\n",
       "       '3 ', '0(39.187.201.183)TM ', '0(223.95.49.177)TM ',\n",
       "       '0(111.19.79.127)TM ', '0(220.165.215.34)TM ',\n",
       "       '0(117.148.124.197)TM ', '(220.165.215.34)TM ',\n",
       "       '1(112.12.48.134)TM ', '0(117.148.81.112)TM ',\n",
       "       '(182.242.93.197)TM ', '0(182.242.93.197)TM ', '(112.12.48.57)TM ',\n",
       "       '0(112.12.48.57)TM ', '(112.12.49.22)TM ', '(180.173.66.181)TM ',\n",
       "       '(112.12.41.104)TM ', '0(222.221.206.247)TM ', '(43.242.153.78)TM ',\n",
       "       '(117.149.48.53)TM ', '0(117.149.48.53)TM ', '(61.156.32.141)TM ',\n",
       "       '0', '1', '2', '3', '(114.104.43.95)TM ', '0(114.104.43.95)TM ',\n",
       "       '0(112.114.34.204)TM ', '1(112.114.34.204)TM ',\n",
       "       '0(112.12.40.35)TM ', '(111.2.103.154)TM ', '(182.110.183.107)TM ',\n",
       "       '(112.11.146.37)TM '], dtype=object)"
      ]
     },
     "execution_count": 34,
     "metadata": {},
     "output_type": "execute_result"
    }
   ],
   "source": [
    "df_play.song_type.unique()"
   ]
  },
  {
   "cell_type": "code",
   "execution_count": 35,
   "metadata": {},
   "outputs": [],
   "source": [
    "df_play.song_type = df_play.song_type.apply(lambda x: str(x).split('(')[0].rstrip())"
   ]
  },
  {
   "cell_type": "code",
   "execution_count": 36,
   "metadata": {},
   "outputs": [
    {
     "data": {
      "text/plain": [
       "0    11464702\n",
       "1     1212490\n",
       "2      115999\n",
       "         5620\n",
       "3        1710\n",
       "Name: song_type, dtype: int64"
      ]
     },
     "execution_count": 36,
     "metadata": {},
     "output_type": "execute_result"
    }
   ],
   "source": [
    "df_play.song_type.value_counts()"
   ]
  },
  {
   "cell_type": "code",
   "execution_count": 37,
   "metadata": {},
   "outputs": [],
   "source": [
    "# There are some missing values in song_type, impute with most common song_type 0\n",
    "df_play.loc[df_play['song_type'] == '',['song_type']] = '0'"
   ]
  },
  {
   "cell_type": "code",
   "execution_count": 38,
   "metadata": {},
   "outputs": [
    {
     "data": {
      "text/plain": [
       "0    11470322\n",
       "1     1212490\n",
       "2      115999\n",
       "3        1710\n",
       "Name: song_type, dtype: int64"
      ]
     },
     "execution_count": 38,
     "metadata": {},
     "output_type": "execute_result"
    }
   ],
   "source": [
    "df_play.song_type.value_counts()"
   ]
  },
  {
   "cell_type": "markdown",
   "metadata": {},
   "source": [
    "#### 6. Label"
   ]
  },
  {
   "cell_type": "code",
   "execution_count": 39,
   "metadata": {},
   "outputs": [
    {
     "data": {
      "text/plain": [
       "0.0    6377672\n",
       "0      2644995\n",
       "1.0    2023020\n",
       "1      1087469\n",
       "0.0     518936\n",
       "1.0     148429\n",
       "Name: label, dtype: int64"
      ]
     },
     "execution_count": 39,
     "metadata": {},
     "output_type": "execute_result"
    }
   ],
   "source": [
    "df_play.label.value_counts()"
   ]
  },
  {
   "cell_type": "code",
   "execution_count": 40,
   "metadata": {},
   "outputs": [],
   "source": [
    "# Convert label to int\n",
    "df_play['label'] = df_play['label'].apply(lambda x: str(x).split('.')[0])"
   ]
  },
  {
   "cell_type": "code",
   "execution_count": 41,
   "metadata": {},
   "outputs": [
    {
     "data": {
      "text/plain": [
       "0    9541603\n",
       "1    3258918\n",
       "Name: label, dtype: int64"
      ]
     },
     "execution_count": 41,
     "metadata": {},
     "output_type": "execute_result"
    }
   ],
   "source": [
    "df_play.label.value_counts()"
   ]
  },
  {
   "cell_type": "markdown",
   "metadata": {},
   "source": [
    "#### 7. Play time"
   ]
  },
  {
   "cell_type": "markdown",
   "metadata": {},
   "source": [
    "play_time are strings. Some are has '>' in it. Split with '>' and keep only the part in front of '>'. \n",
    "\n",
    "Then, change the type to float"
   ]
  },
  {
   "cell_type": "code",
   "execution_count": 42,
   "metadata": {},
   "outputs": [
    {
     "data": {
      "text/plain": [
       "0                         2071968\n",
       "1                          330527\n",
       "0                          248803\n",
       "2                          202664\n",
       "3                          149763\n",
       "4                          128452\n",
       "5                          101025\n",
       "10                          79872\n",
       "6                           75008\n",
       "7                           63394\n",
       "199                         62839\n",
       "249                         62534\n",
       "9                           61301\n",
       "231                         56163\n",
       "8                           55588\n",
       "257                         55002\n",
       "248                         52785\n",
       "229                         52258\n",
       "230                         52228\n",
       "250                         50793\n",
       "204                         50502\n",
       "1                           50115\n",
       "261                         49239\n",
       "256                         48120\n",
       "235                         46189\n",
       "238                         45450\n",
       "260                         45386\n",
       "225                         44968\n",
       "245                         44909\n",
       "226                         44477\n",
       "                           ...   \n",
       "307664                          1\n",
       "0>(140.206.88.188)TM            1\n",
       "255895                          1\n",
       "116>\u000f}(175.5.243.63)TM          1\n",
       "248132                          1\n",
       "248137                          1\n",
       "140439                          1\n",
       "295.085642325                   1\n",
       "392>=(101.4.136.45)TM           1\n",
       "91>=(39.130.12.157)TM           1\n",
       "111050                          1\n",
       "347231                          1\n",
       "0>\u000f}(42.238.206.83)TM           1\n",
       "41253                           1\n",
       "424473                          1\n",
       "96092                           1\n",
       "259050                          1\n",
       "96099                           1\n",
       "251968                          1\n",
       "8>=(112.14.95.84)TM             1\n",
       "5>\u000f}(113.89.13.74)TM            1\n",
       "503103                          1\n",
       "197>=(36.47.138.28)TM           1\n",
       "21014                           1\n",
       "191320                          1\n",
       "210149                          1\n",
       "210145                          1\n",
       "210143                          1\n",
       "259059                          1\n",
       "8937                            1\n",
       "Name: play_time, Length: 144825, dtype: int64"
      ]
     },
     "execution_count": 42,
     "metadata": {},
     "output_type": "execute_result"
    }
   ],
   "source": [
    "df_play.play_time.value_counts()"
   ]
  },
  {
   "cell_type": "code",
   "execution_count": 44,
   "metadata": {},
   "outputs": [
    {
     "data": {
      "text/plain": [
       "0                    2079570\n",
       "1                     332398\n",
       "0                     248803\n",
       "2                     204293\n",
       "3                     151000\n",
       "4                     134342\n",
       "5                     120489\n",
       "10                     80435\n",
       "6                      76328\n",
       "7                      64126\n",
       "199                    62891\n",
       "249                    62571\n",
       "9                      61792\n",
       "8                      56287\n",
       "231                    56201\n",
       "257                    55016\n",
       "248                    52805\n",
       "229                    52301\n",
       "230                    52265\n",
       "250                    50815\n",
       "204                    50549\n",
       "1                      50115\n",
       "261                    49255\n",
       "256                    48142\n",
       "235                    46217\n",
       "238                    45486\n",
       "260                    45418\n",
       "225                    45032\n",
       "245                    44926\n",
       "226                    44517\n",
       "                      ...   \n",
       "306292                     1\n",
       "310870                     1\n",
       "311588                     1\n",
       "126295                     1\n",
       "7.347577834                1\n",
       "84102                      1\n",
       "235255                     1\n",
       "235254                     1\n",
       "235256                     1\n",
       "162912                     1\n",
       "396337                     1\n",
       "261319                     1\n",
       "4298                       1\n",
       "275528                     1\n",
       "100.5883333333333          1\n",
       "171438                     1\n",
       "171439                     1\n",
       "171433                     1\n",
       "249323                     1\n",
       "28.446828714               1\n",
       "211476                     1\n",
       "80.94333333333333          1\n",
       "4295                       1\n",
       "4297                       1\n",
       "4293                       1\n",
       "335018                     1\n",
       "337679                     1\n",
       "176521                     1\n",
       "37235                      1\n",
       "8937                       1\n",
       "Name: play_time, Length: 99546, dtype: int64"
      ]
     },
     "execution_count": 44,
     "metadata": {},
     "output_type": "execute_result"
    }
   ],
   "source": [
    "df_play['play_time'] = df_play['play_time'].astype('string').apply(lambda x: x.split('>')[0])\n",
    "df_play.play_time.value_counts()"
   ]
  },
  {
   "cell_type": "code",
   "execution_count": 45,
   "metadata": {},
   "outputs": [
    {
     "name": "stderr",
     "output_type": "stream",
     "text": [
      "/Users/Xiaoxi/anaconda2/lib/python2.7/site-packages/ipykernel_launcher.py:1: FutureWarning: convert_objects is deprecated.  Use the data-type specific converters pd.to_datetime, pd.to_timedelta and pd.to_numeric.\n",
      "  \"\"\"Entry point for launching an IPython kernel.\n"
     ]
    }
   ],
   "source": [
    "df_play['play_time'] = df_play['play_time'].convert_objects(convert_numeric= True)"
   ]
  },
  {
   "cell_type": "code",
   "execution_count": 47,
   "metadata": {
    "scrolled": false
   },
   "outputs": [
    {
     "name": "stdout",
     "output_type": "stream",
     "text": [
      "<class 'pandas.core.frame.DataFrame'>\n",
      "Int64Index: 12800521 entries, 0 to 19136524\n",
      "Data columns (total 1 columns):\n",
      "play_time    float64\n",
      "dtypes: float64(1)\n",
      "memory usage: 515.3 MB\n"
     ]
    }
   ],
   "source": [
    "df_play[['play_time']].info()"
   ]
  },
  {
   "cell_type": "markdown",
   "metadata": {},
   "source": [
    "#### 8. Song_id\n",
    "song_id should be an integer or a string of numbers without decimal\n",
    "\n",
    "The corner case is where song_id == '0'. There are more than 500k logs with '0' as song_id, but they \n",
    "are actually different songs:\n",
    "\n",
    "    Some songs have '0' and another song_id\n",
    "\n",
    "    Some songs only have '0' as song_id\n",
    "\n",
    "song_id imputation:\n",
    "\n",
    "    1) change the song_id to its most frequent appeared values, if there is value other than '0'\n",
    "\n",
    "    2) if it doesn't have another song_id, create new song_ids.\n",
    "\n",
    "What is needed is a {(song_name, singer, song_type):song_id} dictionary."
   ]
  },
  {
   "cell_type": "code",
   "execution_count": null,
   "metadata": {},
   "outputs": [],
   "source": [
    "df_play.song_id = df_play.song_id.apply(lambda x: x.split('.')[0].rstrip())"
   ]
  },
  {
   "cell_type": "code",
   "execution_count": null,
   "metadata": {},
   "outputs": [],
   "source": [
    "df_play.loc[df_play.song_id == '0']"
   ]
  },
  {
   "cell_type": "code",
   "execution_count": null,
   "metadata": {},
   "outputs": [],
   "source": [
    "df_play.groupby(['song_name','singer','song_type']).size().shape"
   ]
  },
  {
   "cell_type": "code",
   "execution_count": null,
   "metadata": {},
   "outputs": [],
   "source": [
    "df_play.groupby(['song_name','singer','song_type','song_id']).size().shape"
   ]
  },
  {
   "cell_type": "markdown",
   "metadata": {},
   "source": [
    "Although the combination of ('song_name','singer','song_type') can identify a song without ambiguity, there \n",
    "ISN'T an one-to-one mapping from ('song_name','singer','song_type') to 'song_id'.\n",
    "\n",
    "Find out the duplicated 'song_id's"
   ]
  },
  {
   "cell_type": "code",
   "execution_count": 100,
   "metadata": {},
   "outputs": [],
   "source": [
    "# Notice there are some empty spaces as inputs in song_name and singer, strip tailoring spaces\n",
    "df_play[['song_name', 'singer']] = df_play[['song_name', 'singer']].applymap(lambda x: x.rstrip())"
   ]
  },
  {
   "cell_type": "code",
   "execution_count": 101,
   "metadata": {},
   "outputs": [
    {
     "data": {
      "text/plain": [
       "index             0\n",
       "uid               0\n",
       "device            0\n",
       "song_id           0\n",
       "song_type         0\n",
       "song_name         0\n",
       "singer            0\n",
       "play_time      7236\n",
       "song_length       0\n",
       "label             0\n",
       "date              0\n",
       "dtype: int64"
      ]
     },
     "execution_count": 101,
     "metadata": {},
     "output_type": "execute_result"
    }
   ],
   "source": [
    "df_play.isnull().sum(axis = 0)"
   ]
  },
  {
   "cell_type": "code",
   "execution_count": 69,
   "metadata": {},
   "outputs": [
    {
     "data": {
      "text/plain": [
       "index             0\n",
       "uid               0\n",
       "device            0\n",
       "song_id           0\n",
       "song_type         0\n",
       "song_name         0\n",
       "singer            0\n",
       "play_time      7236\n",
       "song_length       0\n",
       "label             0\n",
       "date              0\n",
       "dtype: int64"
      ]
     },
     "execution_count": 69,
     "metadata": {},
     "output_type": "execute_result"
    }
   ],
   "source": [
    "# Then remove the logs with nan song_name and singer, totally 58 logs\n",
    "df_play = df_play.loc[df_play.song_name.notnull() & \\\n",
    "                      df_play.singer.notnull()]\n",
    "df_play.isnull().sum(axis = 0)"
   ]
  },
  {
   "cell_type": "code",
   "execution_count": 102,
   "metadata": {},
   "outputs": [],
   "source": [
    "# Count number of logs groupped by song_name, singer and song_type \n",
    "song_id_groupby_df = df_play[['song_name','singer','song_type','song_id']]\\\n",
    "                        .groupby(['song_name','singer','song_type']).count().rename(columns={'song_id': 'count'})"
   ]
  },
  {
   "cell_type": "code",
   "execution_count": 103,
   "metadata": {},
   "outputs": [],
   "source": [
    "# make new song_id with the play times rank, where more played song is ranked as 1st.\n",
    "song_id_groupby_df['song_id_new'] = song_id_groupby_df['count'].rank(method = 'first', ascending = False).astype('int')"
   ]
  },
  {
   "cell_type": "code",
   "execution_count": 104,
   "metadata": {
    "collapsed": true
   },
   "outputs": [],
   "source": [
    "song_id_groupby_df.reset_index(inplace = True)"
   ]
  },
  {
   "cell_type": "code",
   "execution_count": 117,
   "metadata": {},
   "outputs": [
    {
     "name": "stdout",
     "output_type": "stream",
     "text": [
      "<class 'pandas.core.frame.DataFrame'>\n",
      "RangeIndex: 618481 entries, 0 to 618480\n",
      "Data columns (total 5 columns):\n",
      "song_name      618481 non-null object\n",
      "singer         618481 non-null object\n",
      "song_type      618481 non-null object\n",
      "count          618481 non-null int64\n",
      "song_id_new    618481 non-null int64\n",
      "dtypes: int64(2), object(3)\n",
      "memory usage: 23.6+ MB\n"
     ]
    }
   ],
   "source": [
    "song_id_groupby_df.info()"
   ]
  },
  {
   "cell_type": "code",
   "execution_count": 105,
   "metadata": {},
   "outputs": [
    {
     "data": {
      "text/html": [
       "<div>\n",
       "<style>\n",
       "    .dataframe thead tr:only-child th {\n",
       "        text-align: right;\n",
       "    }\n",
       "\n",
       "    .dataframe thead th {\n",
       "        text-align: left;\n",
       "    }\n",
       "\n",
       "    .dataframe tbody tr th {\n",
       "        vertical-align: top;\n",
       "    }\n",
       "</style>\n",
       "<table border=\"1\" class=\"dataframe\">\n",
       "  <thead>\n",
       "    <tr style=\"text-align: right;\">\n",
       "      <th></th>\n",
       "      <th>song_name</th>\n",
       "      <th>singer</th>\n",
       "      <th>song_type</th>\n",
       "      <th>count</th>\n",
       "      <th>song_id_new</th>\n",
       "    </tr>\n",
       "  </thead>\n",
       "  <tbody>\n",
       "    <tr>\n",
       "      <th>0</th>\n",
       "      <td></td>\n",
       "      <td></td>\n",
       "      <td>0</td>\n",
       "      <td>376</td>\n",
       "      <td>4673</td>\n",
       "    </tr>\n",
       "    <tr>\n",
       "      <th>1</th>\n",
       "      <td></td>\n",
       "      <td></td>\n",
       "      <td>1</td>\n",
       "      <td>1</td>\n",
       "      <td>390853</td>\n",
       "    </tr>\n",
       "    <tr>\n",
       "      <th>2</th>\n",
       "      <td></td>\n",
       "      <td></td>\n",
       "      <td>2</td>\n",
       "      <td>16</td>\n",
       "      <td>82456</td>\n",
       "    </tr>\n",
       "    <tr>\n",
       "      <th>3</th>\n",
       "      <td></td>\n",
       "      <td>BoM;HI</td>\n",
       "      <td>0</td>\n",
       "      <td>1</td>\n",
       "      <td>390854</td>\n",
       "    </tr>\n",
       "    <tr>\n",
       "      <th>4</th>\n",
       "      <td></td>\n",
       "      <td>Kassy</td>\n",
       "      <td>0</td>\n",
       "      <td>2</td>\n",
       "      <td>294242</td>\n",
       "    </tr>\n",
       "    <tr>\n",
       "      <th>5</th>\n",
       "      <td></td>\n",
       "      <td>Tez cadey</td>\n",
       "      <td>1</td>\n",
       "      <td>1</td>\n",
       "      <td>390855</td>\n",
       "    </tr>\n",
       "    <tr>\n",
       "      <th>6</th>\n",
       "      <td></td>\n",
       "      <td>Twinbed</td>\n",
       "      <td>1</td>\n",
       "      <td>2</td>\n",
       "      <td>294243</td>\n",
       "    </tr>\n",
       "    <tr>\n",
       "      <th>7</th>\n",
       "      <td></td>\n",
       "      <td>刘恺威</td>\n",
       "      <td>1</td>\n",
       "      <td>1</td>\n",
       "      <td>390856</td>\n",
       "    </tr>\n",
       "    <tr>\n",
       "      <th>8</th>\n",
       "      <td></td>\n",
       "      <td>威仔</td>\n",
       "      <td>0</td>\n",
       "      <td>1</td>\n",
       "      <td>390857</td>\n",
       "    </tr>\n",
       "    <tr>\n",
       "      <th>9</th>\n",
       "      <td></td>\n",
       "      <td>小北;浅浅[主播]</td>\n",
       "      <td>1</td>\n",
       "      <td>1</td>\n",
       "      <td>390858</td>\n",
       "    </tr>\n",
       "  </tbody>\n",
       "</table>\n",
       "</div>"
      ],
      "text/plain": [
       "  song_name     singer song_type  count  song_id_new\n",
       "0                              0    376         4673\n",
       "1                              1      1       390853\n",
       "2                              2     16        82456\n",
       "3               BoM;HI         0      1       390854\n",
       "4                Kassy         0      2       294242\n",
       "5            Tez cadey         1      1       390855\n",
       "6              Twinbed         1      2       294243\n",
       "7                  刘恺威         1      1       390856\n",
       "8                   威仔         0      1       390857\n",
       "9            小北;浅浅[主播]         1      1       390858"
      ]
     },
     "execution_count": 105,
     "metadata": {},
     "output_type": "execute_result"
    }
   ],
   "source": [
    "song_id_groupby_df.head(10)"
   ]
  },
  {
   "cell_type": "code",
   "execution_count": 108,
   "metadata": {},
   "outputs": [
    {
     "data": {
      "text/plain": [
       "''"
      ]
     },
     "execution_count": 108,
     "metadata": {},
     "output_type": "execute_result"
    }
   ],
   "source": [
    "song_id_groupby_df.loc[2, 'song_name']"
   ]
  },
  {
   "cell_type": "code",
   "execution_count": 109,
   "metadata": {
    "collapsed": true
   },
   "outputs": [],
   "source": [
    "# Merge new_song_id to create a new dataframe\n",
    "df_play_log = pd.merge(df_play, song_id_groupby_df,  how='left', \\\n",
    "                       left_on=['song_name','singer','song_type'], \\\n",
    "                       right_on = ['song_name','singer','song_type'])"
   ]
  },
  {
   "cell_type": "code",
   "execution_count": 110,
   "metadata": {},
   "outputs": [
    {
     "data": {
      "text/html": [
       "<div>\n",
       "<style>\n",
       "    .dataframe thead tr:only-child th {\n",
       "        text-align: right;\n",
       "    }\n",
       "\n",
       "    .dataframe thead th {\n",
       "        text-align: left;\n",
       "    }\n",
       "\n",
       "    .dataframe tbody tr th {\n",
       "        vertical-align: top;\n",
       "    }\n",
       "</style>\n",
       "<table border=\"1\" class=\"dataframe\">\n",
       "  <thead>\n",
       "    <tr style=\"text-align: right;\">\n",
       "      <th></th>\n",
       "      <th>index</th>\n",
       "      <th>uid</th>\n",
       "      <th>device</th>\n",
       "      <th>song_id</th>\n",
       "      <th>song_type</th>\n",
       "      <th>song_name</th>\n",
       "      <th>singer</th>\n",
       "      <th>play_time</th>\n",
       "      <th>song_length</th>\n",
       "      <th>label</th>\n",
       "      <th>date</th>\n",
       "      <th>count</th>\n",
       "      <th>song_id_new</th>\n",
       "    </tr>\n",
       "  </thead>\n",
       "  <tbody>\n",
       "    <tr>\n",
       "      <th>0</th>\n",
       "      <td>0</td>\n",
       "      <td>154824972</td>\n",
       "      <td>ar</td>\n",
       "      <td>3300104</td>\n",
       "      <td>0</td>\n",
       "      <td>Not A Love Song</td>\n",
       "      <td>Bean</td>\n",
       "      <td>22.0</td>\n",
       "      <td>178</td>\n",
       "      <td>1</td>\n",
       "      <td>20170302</td>\n",
       "      <td>2</td>\n",
       "      <td>311464</td>\n",
       "    </tr>\n",
       "    <tr>\n",
       "      <th>1</th>\n",
       "      <td>1</td>\n",
       "      <td>154412619</td>\n",
       "      <td>ar</td>\n",
       "      <td>2268011</td>\n",
       "      <td>0</td>\n",
       "      <td>有一点动心</td>\n",
       "      <td>群星</td>\n",
       "      <td>235.0</td>\n",
       "      <td>235</td>\n",
       "      <td>1</td>\n",
       "      <td>20170302</td>\n",
       "      <td>87</td>\n",
       "      <td>19974</td>\n",
       "    </tr>\n",
       "    <tr>\n",
       "      <th>2</th>\n",
       "      <td>2</td>\n",
       "      <td>154830959</td>\n",
       "      <td>ar</td>\n",
       "      <td>238895</td>\n",
       "      <td>0</td>\n",
       "      <td>自由飞翔</td>\n",
       "      <td>凤凰传奇</td>\n",
       "      <td>256.0</td>\n",
       "      <td>256</td>\n",
       "      <td>1</td>\n",
       "      <td>20170302</td>\n",
       "      <td>5609</td>\n",
       "      <td>116</td>\n",
       "    </tr>\n",
       "    <tr>\n",
       "      <th>3</th>\n",
       "      <td>3</td>\n",
       "      <td>154826319</td>\n",
       "      <td>ar</td>\n",
       "      <td>4251791</td>\n",
       "      <td>0</td>\n",
       "      <td>爱(2010年春晚歌曲 2010春晚歌曲)</td>\n",
       "      <td>小虎队</td>\n",
       "      <td>27962.0</td>\n",
       "      <td>0</td>\n",
       "      <td>1</td>\n",
       "      <td>20170302</td>\n",
       "      <td>6</td>\n",
       "      <td>175551</td>\n",
       "    </tr>\n",
       "    <tr>\n",
       "      <th>4</th>\n",
       "      <td>4</td>\n",
       "      <td>154470406</td>\n",
       "      <td>ar</td>\n",
       "      <td>20940997</td>\n",
       "      <td>0</td>\n",
       "      <td>向往-(电视剧《鸡毛飞上天》主题曲)</td>\n",
       "      <td>孙楠</td>\n",
       "      <td>5.0</td>\n",
       "      <td>247</td>\n",
       "      <td>1</td>\n",
       "      <td>20170302</td>\n",
       "      <td>2557</td>\n",
       "      <td>411</td>\n",
       "    </tr>\n",
       "  </tbody>\n",
       "</table>\n",
       "</div>"
      ],
      "text/plain": [
       "   index         uid device    song_id song_type              song_name  \\\n",
       "0      0  154824972      ar   3300104          0        Not A Love Song   \n",
       "1      1  154412619      ar   2268011          0                  有一点动心   \n",
       "2      2  154830959      ar    238895          0                   自由飞翔   \n",
       "3      3  154826319      ar   4251791          0  爱(2010年春晚歌曲 2010春晚歌曲)   \n",
       "4      4  154470406      ar  20940997          0     向往-(电视剧《鸡毛飞上天》主题曲)   \n",
       "\n",
       "  singer  play_time song_length label      date  count  song_id_new  \n",
       "0   Bean       22.0        178      1  20170302      2       311464  \n",
       "1     群星      235.0        235      1  20170302     87        19974  \n",
       "2   凤凰传奇      256.0        256      1  20170302   5609          116  \n",
       "3    小虎队    27962.0          0      1  20170302      6       175551  \n",
       "4     孙楠        5.0        247      1  20170302   2557          411  "
      ]
     },
     "execution_count": 110,
     "metadata": {},
     "output_type": "execute_result"
    }
   ],
   "source": [
    "df_play_log.head()"
   ]
  },
  {
   "cell_type": "code",
   "execution_count": 114,
   "metadata": {},
   "outputs": [
    {
     "data": {
      "text/plain": [
       "((12787364, 13), (12787364, 11))"
      ]
     },
     "execution_count": 114,
     "metadata": {},
     "output_type": "execute_result"
    }
   ],
   "source": [
    "df_play_log.shape, df_play.shape"
   ]
  },
  {
   "cell_type": "code",
   "execution_count": 116,
   "metadata": {},
   "outputs": [
    {
     "data": {
      "text/plain": [
       "0"
      ]
     },
     "execution_count": 116,
     "metadata": {},
     "output_type": "execute_result"
    }
   ],
   "source": [
    "df_play_log['song_id_new'].isnull().sum()"
   ]
  },
  {
   "cell_type": "code",
   "execution_count": 118,
   "metadata": {},
   "outputs": [
    {
     "data": {
      "text/plain": [
       "Int64Index([101, 102, 103, 104, 105, 106, 107, 108, 109, 110], dtype='int64')"
      ]
     },
     "execution_count": 118,
     "metadata": {},
     "output_type": "execute_result"
    }
   ],
   "source": [
    "# get favorite songs info\n",
    "popular_songs = df_play_log['song_id_new'].value_counts()[:200].index\n",
    "\n",
    "popular_songs[100:110]"
   ]
  },
  {
   "cell_type": "code",
   "execution_count": 119,
   "metadata": {},
   "outputs": [
    {
     "data": {
      "text/plain": [
       "224072"
      ]
     },
     "execution_count": 119,
     "metadata": {},
     "output_type": "execute_result"
    }
   ],
   "source": [
    "# the rarely played songs are also worth examining.\n",
    "rarely_played = sum(df_play_log['song_id'].value_counts()<2)\n",
    "rarely_played"
   ]
  },
  {
   "cell_type": "code",
   "execution_count": 121,
   "metadata": {},
   "outputs": [
    {
     "data": {
      "text/plain": [
       "224072"
      ]
     },
     "execution_count": 121,
     "metadata": {},
     "output_type": "execute_result"
    }
   ],
   "source": [
    "rarely_played_songs = df_play_log.song_id_new.value_counts()[-1:-rarely_played-1:-1].index\n",
    "len(rarely_played_songs)"
   ]
  },
  {
   "cell_type": "code",
   "execution_count": 123,
   "metadata": {},
   "outputs": [
    {
     "data": {
      "text/html": [
       "<div>\n",
       "<style>\n",
       "    .dataframe thead tr:only-child th {\n",
       "        text-align: right;\n",
       "    }\n",
       "\n",
       "    .dataframe thead th {\n",
       "        text-align: left;\n",
       "    }\n",
       "\n",
       "    .dataframe tbody tr th {\n",
       "        vertical-align: top;\n",
       "    }\n",
       "</style>\n",
       "<table border=\"1\" class=\"dataframe\">\n",
       "  <thead>\n",
       "    <tr style=\"text-align: right;\">\n",
       "      <th></th>\n",
       "      <th>index</th>\n",
       "      <th>uid</th>\n",
       "      <th>device</th>\n",
       "      <th>song_id</th>\n",
       "      <th>song_type</th>\n",
       "      <th>song_name</th>\n",
       "      <th>singer</th>\n",
       "      <th>play_time</th>\n",
       "      <th>song_length</th>\n",
       "      <th>label</th>\n",
       "      <th>date</th>\n",
       "      <th>count</th>\n",
       "      <th>song_id_new</th>\n",
       "    </tr>\n",
       "  </thead>\n",
       "  <tbody>\n",
       "    <tr>\n",
       "      <th>4958456</th>\n",
       "      <td>6724684</td>\n",
       "      <td>168818987</td>\n",
       "      <td>ar</td>\n",
       "      <td>6413574</td>\n",
       "      <td>0</td>\n",
       "      <td>第0367章 节节攀升!晋级!</td>\n",
       "      <td>上译忠臣</td>\n",
       "      <td>737.0</td>\n",
       "      <td>737</td>\n",
       "      <td>0</td>\n",
       "      <td>20170407</td>\n",
       "      <td>1</td>\n",
       "      <td>577276</td>\n",
       "    </tr>\n",
       "  </tbody>\n",
       "</table>\n",
       "</div>"
      ],
      "text/plain": [
       "           index        uid device  song_id song_type        song_name singer  \\\n",
       "4958456  6724684  168818987     ar  6413574         0  第0367章 节节攀升!晋级!   上译忠臣   \n",
       "\n",
       "         play_time song_length label      date  count  song_id_new  \n",
       "4958456      737.0         737     0  20170407      1       577276  "
      ]
     },
     "execution_count": 123,
     "metadata": {},
     "output_type": "execute_result"
    }
   ],
   "source": [
    "# searching play log of a certain rare song\n",
    "df_play_log[df_play_log.song_id_new == rarely_played_songs[0]]"
   ]
  },
  {
   "cell_type": "code",
   "execution_count": 125,
   "metadata": {},
   "outputs": [
    {
     "data": {
      "text/html": [
       "<div>\n",
       "<style>\n",
       "    .dataframe thead tr:only-child th {\n",
       "        text-align: right;\n",
       "    }\n",
       "\n",
       "    .dataframe thead th {\n",
       "        text-align: left;\n",
       "    }\n",
       "\n",
       "    .dataframe tbody tr th {\n",
       "        vertical-align: top;\n",
       "    }\n",
       "</style>\n",
       "<table border=\"1\" class=\"dataframe\">\n",
       "  <thead>\n",
       "    <tr style=\"text-align: right;\">\n",
       "      <th></th>\n",
       "      <th>song_name</th>\n",
       "      <th>singer</th>\n",
       "      <th>song_type</th>\n",
       "      <th>count</th>\n",
       "      <th>song_id_new</th>\n",
       "    </tr>\n",
       "  </thead>\n",
       "  <tbody>\n",
       "    <tr>\n",
       "      <th>505989</th>\n",
       "      <td>第0367章 节节攀升!晋级!</td>\n",
       "      <td>上译忠臣</td>\n",
       "      <td>0</td>\n",
       "      <td>1</td>\n",
       "      <td>577276</td>\n",
       "    </tr>\n",
       "  </tbody>\n",
       "</table>\n",
       "</div>"
      ],
      "text/plain": [
       "              song_name singer song_type  count  song_id_new\n",
       "505989  第0367章 节节攀升!晋级!   上译忠臣         0      1       577276"
      ]
     },
     "execution_count": 125,
     "metadata": {},
     "output_type": "execute_result"
    }
   ],
   "source": [
    "song_id_groupby_df[song_id_groupby_df.song_id_new == rarely_played_songs[0]]"
   ]
  },
  {
   "cell_type": "markdown",
   "metadata": {},
   "source": [
    "### 9.singer"
   ]
  },
  {
   "cell_type": "code",
   "execution_count": 133,
   "metadata": {
    "collapsed": true
   },
   "outputs": [],
   "source": [
    "singer_groupby_df = df_play[['singer','song_id']]\\\n",
    "                   .groupby(['singer']).count().rename(columns={'song_id': 'count'})"
   ]
  },
  {
   "cell_type": "code",
   "execution_count": 134,
   "metadata": {},
   "outputs": [
    {
     "data": {
      "text/html": [
       "<div>\n",
       "<style>\n",
       "    .dataframe thead tr:only-child th {\n",
       "        text-align: right;\n",
       "    }\n",
       "\n",
       "    .dataframe thead th {\n",
       "        text-align: left;\n",
       "    }\n",
       "\n",
       "    .dataframe tbody tr th {\n",
       "        vertical-align: top;\n",
       "    }\n",
       "</style>\n",
       "<table border=\"1\" class=\"dataframe\">\n",
       "  <thead>\n",
       "    <tr style=\"text-align: right;\">\n",
       "      <th></th>\n",
       "      <th>singer</th>\n",
       "      <th>count</th>\n",
       "    </tr>\n",
       "  </thead>\n",
       "  <tbody>\n",
       "    <tr>\n",
       "      <th>0</th>\n",
       "      <td></td>\n",
       "      <td>3979</td>\n",
       "    </tr>\n",
       "    <tr>\n",
       "      <th>1</th>\n",
       "      <td>\u000e.飞ルメゞ</td>\n",
       "      <td>1</td>\n",
       "    </tr>\n",
       "    <tr>\n",
       "      <th>2</th>\n",
       "      <td>\u000eFree\u000e葵子</td>\n",
       "      <td>1</td>\n",
       "    </tr>\n",
       "    <tr>\n",
       "      <th>3</th>\n",
       "      <td>\u000e╰晓\u000e心╯\u000e</td>\n",
       "      <td>2</td>\n",
       "    </tr>\n",
       "    <tr>\n",
       "      <th>4</th>\n",
       "      <td>\u000e＂飞少■\u0011メ</td>\n",
       "      <td>53</td>\n",
       "    </tr>\n",
       "  </tbody>\n",
       "</table>\n",
       "</div>"
      ],
      "text/plain": [
       "     singer  count\n",
       "0             3979\n",
       "1    \u000e.飞ルメゞ      1\n",
       "2  \u000eFree\u000e葵子      1\n",
       "3   \u000e╰晓\u000e心╯\u000e      2\n",
       "4   \u000e＂飞少■\u0011メ     53"
      ]
     },
     "execution_count": 134,
     "metadata": {},
     "output_type": "execute_result"
    }
   ],
   "source": [
    "singer_groupby_df.reset_index(inplace = True)\n",
    "singer_groupby_df.head()"
   ]
  },
  {
   "cell_type": "code",
   "execution_count": 136,
   "metadata": {},
   "outputs": [
    {
     "name": "stdout",
     "output_type": "stream",
     "text": [
      "<class 'pandas.core.frame.DataFrame'>\n",
      "RangeIndex: 81849 entries, 0 to 81848\n",
      "Data columns (total 2 columns):\n",
      "singer    81849 non-null object\n",
      "count     81849 non-null int64\n",
      "dtypes: int64(1), object(1)\n",
      "memory usage: 1.2+ MB\n"
     ]
    }
   ],
   "source": [
    "singer_groupby_df.info()"
   ]
  },
  {
   "cell_type": "code",
   "execution_count": 142,
   "metadata": {
    "collapsed": true
   },
   "outputs": [],
   "source": [
    "singer_groupby_df['singer_popularity_rank'] = singer_groupby_df[['count']].rank(method = 'first', ascending = False).astype(int)"
   ]
  },
  {
   "cell_type": "code",
   "execution_count": 143,
   "metadata": {},
   "outputs": [
    {
     "data": {
      "text/html": [
       "<div>\n",
       "<style>\n",
       "    .dataframe thead tr:only-child th {\n",
       "        text-align: right;\n",
       "    }\n",
       "\n",
       "    .dataframe thead th {\n",
       "        text-align: left;\n",
       "    }\n",
       "\n",
       "    .dataframe tbody tr th {\n",
       "        vertical-align: top;\n",
       "    }\n",
       "</style>\n",
       "<table border=\"1\" class=\"dataframe\">\n",
       "  <thead>\n",
       "    <tr style=\"text-align: right;\">\n",
       "      <th></th>\n",
       "      <th>singer</th>\n",
       "      <th>count</th>\n",
       "      <th>singer_popularity_rank</th>\n",
       "    </tr>\n",
       "  </thead>\n",
       "  <tbody>\n",
       "    <tr>\n",
       "      <th>0</th>\n",
       "      <td></td>\n",
       "      <td>3979</td>\n",
       "      <td>503</td>\n",
       "    </tr>\n",
       "    <tr>\n",
       "      <th>1</th>\n",
       "      <td>\u000e.飞ルメゞ</td>\n",
       "      <td>1</td>\n",
       "      <td>60242</td>\n",
       "    </tr>\n",
       "    <tr>\n",
       "      <th>2</th>\n",
       "      <td>\u000eFree\u000e葵子</td>\n",
       "      <td>1</td>\n",
       "      <td>60243</td>\n",
       "    </tr>\n",
       "    <tr>\n",
       "      <th>3</th>\n",
       "      <td>\u000e╰晓\u000e心╯\u000e</td>\n",
       "      <td>2</td>\n",
       "      <td>49951</td>\n",
       "    </tr>\n",
       "    <tr>\n",
       "      <th>4</th>\n",
       "      <td>\u000e＂飞少■\u0011メ</td>\n",
       "      <td>53</td>\n",
       "      <td>11230</td>\n",
       "    </tr>\n",
       "  </tbody>\n",
       "</table>\n",
       "</div>"
      ],
      "text/plain": [
       "     singer  count  singer_popularity_rank\n",
       "0             3979                     503\n",
       "1    \u000e.飞ルメゞ      1                   60242\n",
       "2  \u000eFree\u000e葵子      1                   60243\n",
       "3   \u000e╰晓\u000e心╯\u000e      2                   49951\n",
       "4   \u000e＂飞少■\u0011メ     53                   11230"
      ]
     },
     "execution_count": 143,
     "metadata": {},
     "output_type": "execute_result"
    }
   ],
   "source": [
    "singer_groupby_df.head()"
   ]
  },
  {
   "cell_type": "code",
   "execution_count": 144,
   "metadata": {
    "collapsed": true
   },
   "outputs": [],
   "source": [
    "# Merge singer_popularity to create a new dataframe\n",
    "df_play_log = pd.merge(df_play_log, singer_groupby_df,  how='left', \\\n",
    "                       left_on=['singer'], \\\n",
    "                       right_on = ['singer'])"
   ]
  },
  {
   "cell_type": "code",
   "execution_count": 145,
   "metadata": {},
   "outputs": [
    {
     "data": {
      "text/html": [
       "<div>\n",
       "<style>\n",
       "    .dataframe thead tr:only-child th {\n",
       "        text-align: right;\n",
       "    }\n",
       "\n",
       "    .dataframe thead th {\n",
       "        text-align: left;\n",
       "    }\n",
       "\n",
       "    .dataframe tbody tr th {\n",
       "        vertical-align: top;\n",
       "    }\n",
       "</style>\n",
       "<table border=\"1\" class=\"dataframe\">\n",
       "  <thead>\n",
       "    <tr style=\"text-align: right;\">\n",
       "      <th></th>\n",
       "      <th>index</th>\n",
       "      <th>uid</th>\n",
       "      <th>device</th>\n",
       "      <th>song_id</th>\n",
       "      <th>song_type</th>\n",
       "      <th>song_name</th>\n",
       "      <th>singer</th>\n",
       "      <th>play_time</th>\n",
       "      <th>song_length</th>\n",
       "      <th>label</th>\n",
       "      <th>date</th>\n",
       "      <th>count_x</th>\n",
       "      <th>song_id_new</th>\n",
       "      <th>count_y</th>\n",
       "      <th>singer_popularity_rank</th>\n",
       "    </tr>\n",
       "  </thead>\n",
       "  <tbody>\n",
       "    <tr>\n",
       "      <th>0</th>\n",
       "      <td>0</td>\n",
       "      <td>154824972</td>\n",
       "      <td>ar</td>\n",
       "      <td>3300104</td>\n",
       "      <td>0</td>\n",
       "      <td>Not A Love Song</td>\n",
       "      <td>Bean</td>\n",
       "      <td>22.0</td>\n",
       "      <td>178</td>\n",
       "      <td>1</td>\n",
       "      <td>20170302</td>\n",
       "      <td>2</td>\n",
       "      <td>311464</td>\n",
       "      <td>101</td>\n",
       "      <td>7468</td>\n",
       "    </tr>\n",
       "    <tr>\n",
       "      <th>1</th>\n",
       "      <td>1</td>\n",
       "      <td>154412619</td>\n",
       "      <td>ar</td>\n",
       "      <td>2268011</td>\n",
       "      <td>0</td>\n",
       "      <td>有一点动心</td>\n",
       "      <td>群星</td>\n",
       "      <td>235.0</td>\n",
       "      <td>235</td>\n",
       "      <td>1</td>\n",
       "      <td>20170302</td>\n",
       "      <td>87</td>\n",
       "      <td>19974</td>\n",
       "      <td>76267</td>\n",
       "      <td>17</td>\n",
       "    </tr>\n",
       "    <tr>\n",
       "      <th>2</th>\n",
       "      <td>2</td>\n",
       "      <td>154830959</td>\n",
       "      <td>ar</td>\n",
       "      <td>238895</td>\n",
       "      <td>0</td>\n",
       "      <td>自由飞翔</td>\n",
       "      <td>凤凰传奇</td>\n",
       "      <td>256.0</td>\n",
       "      <td>256</td>\n",
       "      <td>1</td>\n",
       "      <td>20170302</td>\n",
       "      <td>5609</td>\n",
       "      <td>116</td>\n",
       "      <td>84943</td>\n",
       "      <td>11</td>\n",
       "    </tr>\n",
       "    <tr>\n",
       "      <th>3</th>\n",
       "      <td>3</td>\n",
       "      <td>154826319</td>\n",
       "      <td>ar</td>\n",
       "      <td>4251791</td>\n",
       "      <td>0</td>\n",
       "      <td>爱(2010年春晚歌曲 2010春晚歌曲)</td>\n",
       "      <td>小虎队</td>\n",
       "      <td>27962.0</td>\n",
       "      <td>0</td>\n",
       "      <td>1</td>\n",
       "      <td>20170302</td>\n",
       "      <td>6</td>\n",
       "      <td>175551</td>\n",
       "      <td>12534</td>\n",
       "      <td>141</td>\n",
       "    </tr>\n",
       "    <tr>\n",
       "      <th>4</th>\n",
       "      <td>4</td>\n",
       "      <td>154470406</td>\n",
       "      <td>ar</td>\n",
       "      <td>20940997</td>\n",
       "      <td>0</td>\n",
       "      <td>向往-(电视剧《鸡毛飞上天》主题曲)</td>\n",
       "      <td>孙楠</td>\n",
       "      <td>5.0</td>\n",
       "      <td>247</td>\n",
       "      <td>1</td>\n",
       "      <td>20170302</td>\n",
       "      <td>2557</td>\n",
       "      <td>411</td>\n",
       "      <td>10028</td>\n",
       "      <td>187</td>\n",
       "    </tr>\n",
       "  </tbody>\n",
       "</table>\n",
       "</div>"
      ],
      "text/plain": [
       "   index         uid device    song_id song_type              song_name  \\\n",
       "0      0  154824972      ar   3300104          0        Not A Love Song   \n",
       "1      1  154412619      ar   2268011          0                  有一点动心   \n",
       "2      2  154830959      ar    238895          0                   自由飞翔   \n",
       "3      3  154826319      ar   4251791          0  爱(2010年春晚歌曲 2010春晚歌曲)   \n",
       "4      4  154470406      ar  20940997          0     向往-(电视剧《鸡毛飞上天》主题曲)   \n",
       "\n",
       "  singer  play_time song_length label      date  count_x  song_id_new  \\\n",
       "0   Bean       22.0        178      1  20170302        2       311464   \n",
       "1     群星      235.0        235      1  20170302       87        19974   \n",
       "2   凤凰传奇      256.0        256      1  20170302     5609          116   \n",
       "3    小虎队    27962.0          0      1  20170302        6       175551   \n",
       "4     孙楠        5.0        247      1  20170302     2557          411   \n",
       "\n",
       "   count_y  singer_popularity_rank  \n",
       "0      101                    7468  \n",
       "1    76267                      17  \n",
       "2    84943                      11  \n",
       "3    12534                     141  \n",
       "4    10028                     187  "
      ]
     },
     "execution_count": 145,
     "metadata": {},
     "output_type": "execute_result"
    }
   ],
   "source": [
    "df_play_log.head()"
   ]
  },
  {
   "cell_type": "code",
   "execution_count": 146,
   "metadata": {},
   "outputs": [
    {
     "name": "stdout",
     "output_type": "stream",
     "text": [
      "<class 'pandas.core.frame.DataFrame'>\n",
      "Int64Index: 12787364 entries, 0 to 12787363\n",
      "Data columns (total 15 columns):\n",
      "index                     int64\n",
      "uid                       object\n",
      "device                    object\n",
      "song_id                   object\n",
      "song_type                 object\n",
      "song_name                 object\n",
      "singer                    object\n",
      "play_time                 float64\n",
      "song_length               object\n",
      "label                     object\n",
      "date                      object\n",
      "count_x                   int64\n",
      "song_id_new               int64\n",
      "count_y                   int64\n",
      "singer_popularity_rank    int64\n",
      "dtypes: float64(1), int64(5), object(9)\n",
      "memory usage: 1.5+ GB\n"
     ]
    }
   ],
   "source": [
    "df_play_log.info()"
   ]
  },
  {
   "cell_type": "code",
   "execution_count": 148,
   "metadata": {},
   "outputs": [
    {
     "data": {
      "text/plain": [
       "Int64Index([101, 102, 103, 104, 105, 106, 107, 108, 109, 110], dtype='int64')"
      ]
     },
     "execution_count": 148,
     "metadata": {},
     "output_type": "execute_result"
    }
   ],
   "source": [
    "# get favorite songs info\n",
    "popular_singers = df_play_log['singer_popularity_rank'].value_counts()[:200].index\n",
    "\n",
    "popular_singers[100:110]"
   ]
  },
  {
   "cell_type": "markdown",
   "metadata": {},
   "source": [
    "### reduce the size of the df_play_log\n",
    "In the following analysis, the original song_id, song_names and singer can be ommitted from the df_play_log, while the only information left is song_id_new, singer_popularity_rank."
   ]
  },
  {
   "cell_type": "code",
   "execution_count": 149,
   "metadata": {},
   "outputs": [
    {
     "data": {
      "text/html": [
       "<div>\n",
       "<style>\n",
       "    .dataframe thead tr:only-child th {\n",
       "        text-align: right;\n",
       "    }\n",
       "\n",
       "    .dataframe thead th {\n",
       "        text-align: left;\n",
       "    }\n",
       "\n",
       "    .dataframe tbody tr th {\n",
       "        vertical-align: top;\n",
       "    }\n",
       "</style>\n",
       "<table border=\"1\" class=\"dataframe\">\n",
       "  <thead>\n",
       "    <tr style=\"text-align: right;\">\n",
       "      <th></th>\n",
       "      <th>index</th>\n",
       "      <th>uid</th>\n",
       "      <th>device</th>\n",
       "      <th>song_id</th>\n",
       "      <th>song_type</th>\n",
       "      <th>play_time</th>\n",
       "      <th>song_length</th>\n",
       "      <th>label</th>\n",
       "      <th>date</th>\n",
       "      <th>song_id_new</th>\n",
       "      <th>singer_popularity_rank</th>\n",
       "    </tr>\n",
       "  </thead>\n",
       "  <tbody>\n",
       "    <tr>\n",
       "      <th>0</th>\n",
       "      <td>0</td>\n",
       "      <td>154824972</td>\n",
       "      <td>ar</td>\n",
       "      <td>3300104</td>\n",
       "      <td>0</td>\n",
       "      <td>22.0</td>\n",
       "      <td>178</td>\n",
       "      <td>1</td>\n",
       "      <td>20170302</td>\n",
       "      <td>311464</td>\n",
       "      <td>7468</td>\n",
       "    </tr>\n",
       "    <tr>\n",
       "      <th>1</th>\n",
       "      <td>1</td>\n",
       "      <td>154412619</td>\n",
       "      <td>ar</td>\n",
       "      <td>2268011</td>\n",
       "      <td>0</td>\n",
       "      <td>235.0</td>\n",
       "      <td>235</td>\n",
       "      <td>1</td>\n",
       "      <td>20170302</td>\n",
       "      <td>19974</td>\n",
       "      <td>17</td>\n",
       "    </tr>\n",
       "    <tr>\n",
       "      <th>2</th>\n",
       "      <td>2</td>\n",
       "      <td>154830959</td>\n",
       "      <td>ar</td>\n",
       "      <td>238895</td>\n",
       "      <td>0</td>\n",
       "      <td>256.0</td>\n",
       "      <td>256</td>\n",
       "      <td>1</td>\n",
       "      <td>20170302</td>\n",
       "      <td>116</td>\n",
       "      <td>11</td>\n",
       "    </tr>\n",
       "    <tr>\n",
       "      <th>3</th>\n",
       "      <td>3</td>\n",
       "      <td>154826319</td>\n",
       "      <td>ar</td>\n",
       "      <td>4251791</td>\n",
       "      <td>0</td>\n",
       "      <td>27962.0</td>\n",
       "      <td>0</td>\n",
       "      <td>1</td>\n",
       "      <td>20170302</td>\n",
       "      <td>175551</td>\n",
       "      <td>141</td>\n",
       "    </tr>\n",
       "    <tr>\n",
       "      <th>4</th>\n",
       "      <td>4</td>\n",
       "      <td>154470406</td>\n",
       "      <td>ar</td>\n",
       "      <td>20940997</td>\n",
       "      <td>0</td>\n",
       "      <td>5.0</td>\n",
       "      <td>247</td>\n",
       "      <td>1</td>\n",
       "      <td>20170302</td>\n",
       "      <td>411</td>\n",
       "      <td>187</td>\n",
       "    </tr>\n",
       "  </tbody>\n",
       "</table>\n",
       "</div>"
      ],
      "text/plain": [
       "   index         uid device    song_id song_type  play_time song_length label  \\\n",
       "0      0  154824972      ar   3300104          0       22.0        178      1   \n",
       "1      1  154412619      ar   2268011          0      235.0        235      1   \n",
       "2      2  154830959      ar    238895          0      256.0        256      1   \n",
       "3      3  154826319      ar   4251791          0    27962.0          0      1   \n",
       "4      4  154470406      ar  20940997          0        5.0        247      1   \n",
       "\n",
       "       date  song_id_new  singer_popularity_rank  \n",
       "0  20170302       311464                    7468  \n",
       "1  20170302        19974                      17  \n",
       "2  20170302          116                      11  \n",
       "3  20170302       175551                     141  \n",
       "4  20170302          411                     187  "
      ]
     },
     "execution_count": 149,
     "metadata": {},
     "output_type": "execute_result"
    }
   ],
   "source": [
    "df_play_log = df_play_log.drop(['song_name','singer','count_x','count_y'],axis = 1)\n",
    "df_play_log.head()"
   ]
  },
  {
   "cell_type": "code",
   "execution_count": 150,
   "metadata": {},
   "outputs": [
    {
     "data": {
      "text/html": [
       "<div>\n",
       "<style>\n",
       "    .dataframe thead tr:only-child th {\n",
       "        text-align: right;\n",
       "    }\n",
       "\n",
       "    .dataframe thead th {\n",
       "        text-align: left;\n",
       "    }\n",
       "\n",
       "    .dataframe tbody tr th {\n",
       "        vertical-align: top;\n",
       "    }\n",
       "</style>\n",
       "<table border=\"1\" class=\"dataframe\">\n",
       "  <thead>\n",
       "    <tr style=\"text-align: right;\">\n",
       "      <th></th>\n",
       "      <th>index</th>\n",
       "      <th>uid</th>\n",
       "      <th>device</th>\n",
       "      <th>song_type</th>\n",
       "      <th>play_time</th>\n",
       "      <th>song_length</th>\n",
       "      <th>label</th>\n",
       "      <th>date</th>\n",
       "      <th>song_id_new</th>\n",
       "      <th>singer_popularity_rank</th>\n",
       "    </tr>\n",
       "  </thead>\n",
       "  <tbody>\n",
       "    <tr>\n",
       "      <th>0</th>\n",
       "      <td>0</td>\n",
       "      <td>154824972</td>\n",
       "      <td>ar</td>\n",
       "      <td>0</td>\n",
       "      <td>22.0</td>\n",
       "      <td>178</td>\n",
       "      <td>1</td>\n",
       "      <td>20170302</td>\n",
       "      <td>311464</td>\n",
       "      <td>7468</td>\n",
       "    </tr>\n",
       "    <tr>\n",
       "      <th>1</th>\n",
       "      <td>1</td>\n",
       "      <td>154412619</td>\n",
       "      <td>ar</td>\n",
       "      <td>0</td>\n",
       "      <td>235.0</td>\n",
       "      <td>235</td>\n",
       "      <td>1</td>\n",
       "      <td>20170302</td>\n",
       "      <td>19974</td>\n",
       "      <td>17</td>\n",
       "    </tr>\n",
       "    <tr>\n",
       "      <th>2</th>\n",
       "      <td>2</td>\n",
       "      <td>154830959</td>\n",
       "      <td>ar</td>\n",
       "      <td>0</td>\n",
       "      <td>256.0</td>\n",
       "      <td>256</td>\n",
       "      <td>1</td>\n",
       "      <td>20170302</td>\n",
       "      <td>116</td>\n",
       "      <td>11</td>\n",
       "    </tr>\n",
       "    <tr>\n",
       "      <th>3</th>\n",
       "      <td>3</td>\n",
       "      <td>154826319</td>\n",
       "      <td>ar</td>\n",
       "      <td>0</td>\n",
       "      <td>27962.0</td>\n",
       "      <td>0</td>\n",
       "      <td>1</td>\n",
       "      <td>20170302</td>\n",
       "      <td>175551</td>\n",
       "      <td>141</td>\n",
       "    </tr>\n",
       "    <tr>\n",
       "      <th>4</th>\n",
       "      <td>4</td>\n",
       "      <td>154470406</td>\n",
       "      <td>ar</td>\n",
       "      <td>0</td>\n",
       "      <td>5.0</td>\n",
       "      <td>247</td>\n",
       "      <td>1</td>\n",
       "      <td>20170302</td>\n",
       "      <td>411</td>\n",
       "      <td>187</td>\n",
       "    </tr>\n",
       "  </tbody>\n",
       "</table>\n",
       "</div>"
      ],
      "text/plain": [
       "   index         uid device song_type  play_time song_length label      date  \\\n",
       "0      0  154824972      ar         0       22.0        178      1  20170302   \n",
       "1      1  154412619      ar         0      235.0        235      1  20170302   \n",
       "2      2  154830959      ar         0      256.0        256      1  20170302   \n",
       "3      3  154826319      ar         0    27962.0          0      1  20170302   \n",
       "4      4  154470406      ar         0        5.0        247      1  20170302   \n",
       "\n",
       "   song_id_new  singer_popularity_rank  \n",
       "0       311464                    7468  \n",
       "1        19974                      17  \n",
       "2          116                      11  \n",
       "3       175551                     141  \n",
       "4          411                     187  "
      ]
     },
     "execution_count": 150,
     "metadata": {},
     "output_type": "execute_result"
    }
   ],
   "source": [
    "df_play_log.drop(['song_id'], axis = 1, inplace = True)\n",
    "df_play_log.head()"
   ]
  },
  {
   "cell_type": "markdown",
   "metadata": {},
   "source": [
    "#### Save current data frames\n"
   ]
  },
  {
   "cell_type": "code",
   "execution_count": 151,
   "metadata": {
    "collapsed": true
   },
   "outputs": [],
   "source": [
    "play_file = '/Users/Xiaoxi/Desktop/BitTiger/Capstone/data/output/reduced_play_log.csv'\n",
    "df_play_log.to_csv(play_file,sep = '\\t', mode = 'a', encoding = 'utf-8')"
   ]
  },
  {
   "cell_type": "code",
   "execution_count": 152,
   "metadata": {
    "collapsed": true
   },
   "outputs": [],
   "source": [
    "# also save into .pickle\n",
    "play_file_pickle = '/Users/Xiaoxi/Desktop/BitTiger/Capstone/data/outputreduced_play_log.pkl'\n",
    "df_play_log.to_pickle(play_file_pickle)"
   ]
  },
  {
   "cell_type": "code",
   "execution_count": 154,
   "metadata": {},
   "outputs": [],
   "source": [
    "# songs\n",
    "song_file = '/Users/Xiaoxi/Desktop/BitTiger/Capstone/data/output/songs.csv'\n",
    "song_id_groupby_df.to_csv(song_file,sep = '\\t', mode = 'a')"
   ]
  },
  {
   "cell_type": "code",
   "execution_count": 155,
   "metadata": {
    "collapsed": true
   },
   "outputs": [],
   "source": [
    "song_file_pickle = '/Users/Xiaoxi/Desktop/BitTiger/Capstone/data/output/songs.pkl'\n",
    "song_id_groupby_df.to_csv(song_file_pickle)"
   ]
  },
  {
   "cell_type": "code",
   "execution_count": 156,
   "metadata": {
    "collapsed": true
   },
   "outputs": [],
   "source": [
    "singer_file = '/Users/Xiaoxi/Desktop/BitTiger/Capstone/data/output/singers.csv'\n",
    "singer_groupby_df.to_csv(singer_file,sep = '\\t', mode = 'a')"
   ]
  },
  {
   "cell_type": "code",
   "execution_count": 157,
   "metadata": {
    "collapsed": true
   },
   "outputs": [],
   "source": [
    "singer_file_pickle = '/Users/Xiaoxi/Desktop/BitTiger/Capstone/data/output/singers.pkl'\n",
    "singer_groupby_df.to_csv(singer_file_pickle)"
   ]
  },
  {
   "cell_type": "code",
   "execution_count": null,
   "metadata": {
    "collapsed": true
   },
   "outputs": [],
   "source": []
  }
 ],
 "metadata": {
  "kernelspec": {
   "display_name": "Python 2",
   "language": "python",
   "name": "python2"
  },
  "language_info": {
   "codemirror_mode": {
    "name": "ipython",
    "version": 2
   },
   "file_extension": ".py",
   "mimetype": "text/x-python",
   "name": "python",
   "nbconvert_exporter": "python",
   "pygments_lexer": "ipython2",
   "version": "2.7.14"
  }
 },
 "nbformat": 4,
 "nbformat_minor": 2
}
